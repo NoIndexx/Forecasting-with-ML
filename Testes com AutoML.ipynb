{
 "cells": [
  {
   "cell_type": "code",
   "execution_count": 1,
   "id": "trained-brake",
   "metadata": {},
   "outputs": [],
   "source": [
    "import h2o"
   ]
  },
  {
   "cell_type": "code",
   "execution_count": 2,
   "id": "eleven-abraham",
   "metadata": {},
   "outputs": [],
   "source": [
    "import matplotlib.pyplot as plt\n",
    "%matplotlib inline"
   ]
  },
  {
   "cell_type": "code",
   "execution_count": 3,
   "id": "documented-archive",
   "metadata": {},
   "outputs": [
    {
     "name": "stdout",
     "output_type": "stream",
     "text": [
      "Checking whether there is an H2O instance running at http://localhost:54321 . connected.\n"
     ]
    },
    {
     "data": {
      "text/html": [
       "<div style=\"overflow:auto\"><table style=\"width:50%\"><tr><td>H2O_cluster_uptime:</td>\n",
       "<td>1 hour 30 mins</td></tr>\n",
       "<tr><td>H2O_cluster_timezone:</td>\n",
       "<td>America/Sao_Paulo</td></tr>\n",
       "<tr><td>H2O_data_parsing_timezone:</td>\n",
       "<td>UTC</td></tr>\n",
       "<tr><td>H2O_cluster_version:</td>\n",
       "<td>3.32.0.5</td></tr>\n",
       "<tr><td>H2O_cluster_version_age:</td>\n",
       "<td>6 days </td></tr>\n",
       "<tr><td>H2O_cluster_name:</td>\n",
       "<td>H2O_from_python_renat_m0uj1h</td></tr>\n",
       "<tr><td>H2O_cluster_total_nodes:</td>\n",
       "<td>1</td></tr>\n",
       "<tr><td>H2O_cluster_free_memory:</td>\n",
       "<td>2.725 Gb</td></tr>\n",
       "<tr><td>H2O_cluster_total_cores:</td>\n",
       "<td>8</td></tr>\n",
       "<tr><td>H2O_cluster_allowed_cores:</td>\n",
       "<td>8</td></tr>\n",
       "<tr><td>H2O_cluster_status:</td>\n",
       "<td>locked, healthy</td></tr>\n",
       "<tr><td>H2O_connection_url:</td>\n",
       "<td>http://localhost:54321</td></tr>\n",
       "<tr><td>H2O_connection_proxy:</td>\n",
       "<td>{\"http\": null, \"https\": null}</td></tr>\n",
       "<tr><td>H2O_internal_security:</td>\n",
       "<td>False</td></tr>\n",
       "<tr><td>H2O_API_Extensions:</td>\n",
       "<td>Amazon S3, Algos, AutoML, Core V3, TargetEncoder, Core V4</td></tr>\n",
       "<tr><td>Python_version:</td>\n",
       "<td>3.9.2 final</td></tr></table></div>"
      ],
      "text/plain": [
       "--------------------------  ---------------------------------------------------------\n",
       "H2O_cluster_uptime:         1 hour 30 mins\n",
       "H2O_cluster_timezone:       America/Sao_Paulo\n",
       "H2O_data_parsing_timezone:  UTC\n",
       "H2O_cluster_version:        3.32.0.5\n",
       "H2O_cluster_version_age:    6 days\n",
       "H2O_cluster_name:           H2O_from_python_renat_m0uj1h\n",
       "H2O_cluster_total_nodes:    1\n",
       "H2O_cluster_free_memory:    2.725 Gb\n",
       "H2O_cluster_total_cores:    8\n",
       "H2O_cluster_allowed_cores:  8\n",
       "H2O_cluster_status:         locked, healthy\n",
       "H2O_connection_url:         http://localhost:54321\n",
       "H2O_connection_proxy:       {\"http\": null, \"https\": null}\n",
       "H2O_internal_security:      False\n",
       "H2O_API_Extensions:         Amazon S3, Algos, AutoML, Core V3, TargetEncoder, Core V4\n",
       "Python_version:             3.9.2 final\n",
       "--------------------------  ---------------------------------------------------------"
      ]
     },
     "metadata": {},
     "output_type": "display_data"
    }
   ],
   "source": [
    "h2o.init()"
   ]
  },
  {
   "cell_type": "code",
   "execution_count": 4,
   "id": "sweet-creature",
   "metadata": {},
   "outputs": [
    {
     "name": "stdout",
     "output_type": "stream",
     "text": [
      "Parse progress: |█████████████████████████████████████████████████████████| 100%\n"
     ]
    }
   ],
   "source": [
    "data = h2o.import_file(\"http://h2o-public-test-data.s3.amazonaws.com/smalldata/airlines/allyears2k_headers.zip\")"
   ]
  },
  {
   "cell_type": "code",
   "execution_count": 5,
   "id": "instant-jacob",
   "metadata": {},
   "outputs": [],
   "source": [
    "train, valid, test = data.split_frame([0.8,0.1], seed = 69)"
   ]
  },
  {
   "cell_type": "code",
   "execution_count": 6,
   "id": "accessible-controversy",
   "metadata": {},
   "outputs": [
    {
     "name": "stdout",
     "output_type": "stream",
     "text": [
      "35255/4272/4451\n"
     ]
    }
   ],
   "source": [
    "print (\"%d/%d/%d\" % (train.nrows,valid.nrows,test.nrows))"
   ]
  },
  {
   "cell_type": "code",
   "execution_count": 7,
   "id": "flying-playlist",
   "metadata": {},
   "outputs": [],
   "source": [
    "y = \"IsArrDelayed\"\n",
    "ignoreFields = [\n",
    "    \"ArrDelay\", \"DepDelay\", \"carrierDelay\",\"WeatherDelay\", \"NASDelay\", \"SecurityDelay\", \"LateAircraftDelay\", \"IsDepDelayed\",\n",
    "    \"IsArrDelayed\", \"ActualElapsedTime\", \"ArrTime\", \"TailNum\"\n",
    "]\n",
    "x= [i for i in train.names if i not in ignoreFields]"
   ]
  },
  {
   "cell_type": "code",
   "execution_count": 8,
   "id": "arctic-occasions",
   "metadata": {},
   "outputs": [],
   "source": [
    "nfolds=5\n",
    "train2 = train.rbind (valid)"
   ]
  },
  {
   "cell_type": "code",
   "execution_count": 9,
   "id": "rough-stocks",
   "metadata": {},
   "outputs": [],
   "source": [
    "from h2o.estimators.random_forest import H2ORandomForestEstimator\n",
    "from h2o.estimators.gbm import H2OGradientBoostingEstimator\n",
    "from h2o.estimators.glm import H2OGeneralizedLinearEstimator\n",
    "from h2o.estimators.stackedensemble import H2OStackedEnsembleEstimator"
   ]
  },
  {
   "cell_type": "code",
   "execution_count": 11,
   "id": "defensive-discovery",
   "metadata": {},
   "outputs": [
    {
     "name": "stdout",
     "output_type": "stream",
     "text": [
      "glm Model Build progress: |███████████████████████████████████████████████| 100%\n"
     ]
    }
   ],
   "source": [
    "m_GLM = H2OGeneralizedLinearEstimator(\n",
    "    family = \"binomial\",\n",
    "    model_id = \"glm_def\",\n",
    "    nfolds = nfolds,\n",
    "    fold_assignment = \"Modulo\",\n",
    "    keep_cross_validation_predictions = True\n",
    ")\n",
    "m_GLM.train (x,y,train2)"
   ]
  },
  {
   "cell_type": "code",
   "execution_count": 12,
   "id": "ignored-family",
   "metadata": {},
   "outputs": [
    {
     "name": "stdout",
     "output_type": "stream",
     "text": [
      "gbm Model Build progress: |███████████████████████████████████████████████| 100%\n"
     ]
    }
   ],
   "source": [
    "m_GBM = H2OGradientBoostingEstimator(\n",
    "    model_id = \"gbm_def\",\n",
    "    nfolds = nfolds,\n",
    "    fold_assignment = \"Modulo\",\n",
    "    keep_cross_validation_predictions = True\n",
    ")\n",
    "m_GBM.train (x,y,train2)"
   ]
  },
  {
   "cell_type": "code",
   "execution_count": 13,
   "id": "super-prayer",
   "metadata": {},
   "outputs": [
    {
     "name": "stdout",
     "output_type": "stream",
     "text": [
      "drf Model Build progress: |███████████████████████████████████████████████| 100%\n"
     ]
    }
   ],
   "source": [
    "m_RF = H2ORandomForestEstimator (\n",
    "    model_id = \"rf_def\",\n",
    "    nfolds = nfolds,\n",
    "    fold_assignment = \"Modulo\",\n",
    "    keep_cross_validation_predictions = True\n",
    ")\n",
    "m_RF.train (x,y,train2)"
   ]
  },
  {
   "cell_type": "code",
   "execution_count": 14,
   "id": "alleged-modeling",
   "metadata": {},
   "outputs": [],
   "source": [
    "models = [m_GLM.model_id, m_GBM.model_id, m_RF.model_id]"
   ]
  },
  {
   "cell_type": "code",
   "execution_count": 15,
   "id": "athletic-beaver",
   "metadata": {},
   "outputs": [
    {
     "name": "stdout",
     "output_type": "stream",
     "text": [
      "stackedensemble Model Build progress: |███████████████████████████████████| 100%\n"
     ]
    }
   ],
   "source": [
    "m_SE = H2OStackedEnsembleEstimator (model_id = \"SE_glm_gbm_rf\",\n",
    "                                    base_models = models)\n",
    "m_SE.train(x,y,train2)"
   ]
  },
  {
   "cell_type": "code",
   "execution_count": 17,
   "id": "bronze-parliament",
   "metadata": {},
   "outputs": [],
   "source": [
    "import pandas as pd"
   ]
  },
  {
   "cell_type": "code",
   "execution_count": 18,
   "id": "hungry-willow",
   "metadata": {},
   "outputs": [],
   "source": [
    "all_models = [m_GLM, m_GBM, m_RF, m_SE]"
   ]
  },
  {
   "cell_type": "code",
   "execution_count": 19,
   "id": "selected-vault",
   "metadata": {},
   "outputs": [],
   "source": [
    "names = [\"GLM\",\"GBM\",\"RF\",\"SE\"]"
   ]
  },
  {
   "cell_type": "code",
   "execution_count": 20,
   "id": "saved-somalia",
   "metadata": {},
   "outputs": [
    {
     "data": {
      "text/plain": [
       "GLM    0.562567\n",
       "GBM    0.502611\n",
       "RF     0.490367\n",
       "SE     0.237360\n",
       "dtype: float64"
      ]
     },
     "execution_count": 20,
     "metadata": {},
     "output_type": "execute_result"
    }
   ],
   "source": [
    "pd.Series(map(lambda x: x.logloss(), all_models), names)"
   ]
  },
  {
   "cell_type": "code",
   "execution_count": 21,
   "id": "hairy-sociology",
   "metadata": {},
   "outputs": [
    {
     "data": {
      "text/plain": [
       "GLM    0.775300\n",
       "GBM    0.851012\n",
       "RF     0.845417\n",
       "SE     0.989179\n",
       "dtype: float64"
      ]
     },
     "execution_count": 21,
     "metadata": {},
     "output_type": "execute_result"
    }
   ],
   "source": [
    "pd.Series(map(lambda x: x.auc(),all_models), names)"
   ]
  },
  {
   "cell_type": "code",
   "execution_count": 22,
   "id": "skilled-glossary",
   "metadata": {},
   "outputs": [
    {
     "data": {
      "text/plain": [
       "GLM    0.768367\n",
       "GBM    0.810133\n",
       "RF     0.848386\n",
       "SE          NaN\n",
       "dtype: float64"
      ]
     },
     "execution_count": 22,
     "metadata": {},
     "output_type": "execute_result"
    }
   ],
   "source": [
    "pd.Series (map(lambda x: x.auc (xval=True),all_models), names)"
   ]
  },
  {
   "cell_type": "code",
   "execution_count": 25,
   "id": "trained-coast",
   "metadata": {},
   "outputs": [],
   "source": [
    "test_perf = list (map(lambda x: x.model_performance(test), all_models))"
   ]
  },
  {
   "cell_type": "code",
   "execution_count": 26,
   "id": "associate-municipality",
   "metadata": {},
   "outputs": [
    {
     "data": {
      "text/plain": [
       "GLM    0.572595\n",
       "GBM    0.536000\n",
       "RF     0.475277\n",
       "SE     0.470408\n",
       "dtype: float64"
      ]
     },
     "execution_count": 26,
     "metadata": {},
     "output_type": "execute_result"
    }
   ],
   "source": [
    "pd.Series(map(lambda p: p.logloss(), test_perf), names)"
   ]
  },
  {
   "cell_type": "code",
   "execution_count": 27,
   "id": "higher-protocol",
   "metadata": {},
   "outputs": [
    {
     "data": {
      "text/plain": [
       "GLM    0.761364\n",
       "GBM    0.808359\n",
       "RF     0.854386\n",
       "SE     0.853944\n",
       "dtype: float64"
      ]
     },
     "execution_count": 27,
     "metadata": {},
     "output_type": "execute_result"
    }
   ],
   "source": [
    "pd.Series(map(lambda p: p.auc(), test_perf), names)"
   ]
  },
  {
   "cell_type": "code",
   "execution_count": null,
   "id": "mineral-mechanics",
   "metadata": {},
   "outputs": [],
   "source": []
  },
  {
   "cell_type": "code",
   "execution_count": 16,
   "id": "postal-gallery",
   "metadata": {},
   "outputs": [
    {
     "ename": "H2OValueError",
     "evalue": "Column class does not exist in the training frame",
     "output_type": "error",
     "traceback": [
      "\u001b[1;31m---------------------------------------------------------------------------\u001b[0m",
      "\u001b[1;31mH2OValueError\u001b[0m                             Traceback (most recent call last)",
      "\u001b[1;32m<ipython-input-16-13d453f275fb>\u001b[0m in \u001b[0;36m<module>\u001b[1;34m\u001b[0m\n\u001b[0;32m      1\u001b[0m \u001b[0mmA\u001b[0m\u001b[1;33m=\u001b[0m \u001b[0mH2OAutoML\u001b[0m \u001b[1;33m(\u001b[0m\u001b[0mmax_runtime_secs\u001b[0m \u001b[1;33m=\u001b[0m\u001b[1;36m30\u001b[0m\u001b[1;33m)\u001b[0m\u001b[1;33m\u001b[0m\u001b[1;33m\u001b[0m\u001b[0m\n\u001b[1;32m----> 2\u001b[1;33m mA.train ([\"ArrTime\", \"ActualElapsedTime\", \"ArrDelay\", \"carrierDelay\", \"WeatherDelay\", \n\u001b[0m\u001b[0;32m      3\u001b[0m            \"NASDelay\", \"SecurityDelay\", \"LateAircraftDelay\", \"IsDepDelayed\"], \"class\", train)\n",
      "\u001b[1;32mc:\\users\\renat\\appdata\\local\\programs\\python\\python39\\lib\\site-packages\\h2o\\automl\\autoh2o.py\u001b[0m in \u001b[0;36mtrain\u001b[1;34m(self, x, y, training_frame, fold_column, weights_column, validation_frame, leaderboard_frame, blending_frame)\u001b[0m\n\u001b[0;32m    420\u001b[0m             \u001b[1;32melse\u001b[0m\u001b[1;33m:\u001b[0m\u001b[1;33m\u001b[0m\u001b[1;33m\u001b[0m\u001b[0m\n\u001b[0;32m    421\u001b[0m                 \u001b[1;32mif\u001b[0m \u001b[0my\u001b[0m \u001b[1;32mnot\u001b[0m \u001b[1;32min\u001b[0m \u001b[0mnames\u001b[0m\u001b[1;33m:\u001b[0m\u001b[1;33m\u001b[0m\u001b[1;33m\u001b[0m\u001b[0m\n\u001b[1;32m--> 422\u001b[1;33m                     \u001b[1;32mraise\u001b[0m \u001b[0mH2OValueError\u001b[0m\u001b[1;33m(\u001b[0m\u001b[1;34m\"Column %s does not exist in the training frame\"\u001b[0m \u001b[1;33m%\u001b[0m \u001b[0my\u001b[0m\u001b[1;33m)\u001b[0m\u001b[1;33m\u001b[0m\u001b[1;33m\u001b[0m\u001b[0m\n\u001b[0m\u001b[0;32m    423\u001b[0m             \u001b[0mself\u001b[0m\u001b[1;33m.\u001b[0m\u001b[0minput_spec\u001b[0m\u001b[1;33m[\u001b[0m\u001b[1;34m'response_column'\u001b[0m\u001b[1;33m]\u001b[0m \u001b[1;33m=\u001b[0m \u001b[0my\u001b[0m\u001b[1;33m\u001b[0m\u001b[1;33m\u001b[0m\u001b[0m\n\u001b[0;32m    424\u001b[0m \u001b[1;33m\u001b[0m\u001b[0m\n",
      "\u001b[1;31mH2OValueError\u001b[0m: Column class does not exist in the training frame"
     ]
    }
   ],
   "source": [
    "mA= H2OAutoML (max_runtime_secs =30)\n",
    "mA.train ([\"ArrTime\", \"ActualElapsedTime\", \"ArrDelay\", \"carrierDelay\", \"WeatherDelay\", \n",
    "           \"NASDelay\", \"SecurityDelay\", \"LateAircraftDelay\", \"IsDepDelayed\"], \"class\", train)"
   ]
  },
  {
   "cell_type": "code",
   "execution_count": 9,
   "id": "therapeutic-statement",
   "metadata": {},
   "outputs": [],
   "source": [
    "from h2o.automl import H2OAutoML"
   ]
  },
  {
   "cell_type": "code",
   "execution_count": 18,
   "id": "fewer-russia",
   "metadata": {},
   "outputs": [
    {
     "ename": "NameError",
     "evalue": "name 'ma' is not defined",
     "output_type": "error",
     "traceback": [
      "\u001b[1;31m---------------------------------------------------------------------------\u001b[0m",
      "\u001b[1;31mNameError\u001b[0m                                 Traceback (most recent call last)",
      "\u001b[1;32m<ipython-input-18-f4a8b6227136>\u001b[0m in \u001b[0;36m<module>\u001b[1;34m\u001b[0m\n\u001b[1;32m----> 1\u001b[1;33m \u001b[0mp\u001b[0m \u001b[1;33m=\u001b[0m \u001b[0mma\u001b[0m\u001b[1;33m.\u001b[0m\u001b[0mleader\u001b[0m\u001b[1;33m.\u001b[0m\u001b[0mpredict\u001b[0m\u001b[1;33m(\u001b[0m\u001b[0mtest\u001b[0m\u001b[1;33m)\u001b[0m\u001b[1;33m\u001b[0m\u001b[1;33m\u001b[0m\u001b[0m\n\u001b[0m",
      "\u001b[1;31mNameError\u001b[0m: name 'ma' is not defined"
     ]
    }
   ],
   "source": [
    "p = ma.leader.predict(test)"
   ]
  },
  {
   "cell_type": "code",
   "execution_count": 17,
   "id": "noticed-sponsorship",
   "metadata": {},
   "outputs": [
    {
     "ename": "NameError",
     "evalue": "name 'ma' is not defined",
     "output_type": "error",
     "traceback": [
      "\u001b[1;31m---------------------------------------------------------------------------\u001b[0m",
      "\u001b[1;31mNameError\u001b[0m                                 Traceback (most recent call last)",
      "\u001b[1;32m<ipython-input-17-cf7aa1fc7179>\u001b[0m in \u001b[0;36m<module>\u001b[1;34m\u001b[0m\n\u001b[1;32m----> 1\u001b[1;33m \u001b[0mma\u001b[0m\u001b[1;33m\u001b[0m\u001b[1;33m\u001b[0m\u001b[0m\n\u001b[0m",
      "\u001b[1;31mNameError\u001b[0m: name 'ma' is not defined"
     ]
    }
   ],
   "source": [
    "p"
   ]
  },
  {
   "cell_type": "code",
   "execution_count": 19,
   "id": "sufficient-wallpaper",
   "metadata": {},
   "outputs": [
    {
     "ename": "NameError",
     "evalue": "name 'ma' is not defined",
     "output_type": "error",
     "traceback": [
      "\u001b[1;31m---------------------------------------------------------------------------\u001b[0m",
      "\u001b[1;31mNameError\u001b[0m                                 Traceback (most recent call last)",
      "\u001b[1;32m<ipython-input-19-49b0390f03a5>\u001b[0m in \u001b[0;36m<module>\u001b[1;34m\u001b[0m\n\u001b[1;32m----> 1\u001b[1;33m \u001b[0mma\u001b[0m\u001b[1;33m.\u001b[0m\u001b[0mleader\u001b[0m\u001b[1;33m.\u001b[0m\u001b[0mmodel_performance\u001b[0m \u001b[1;33m(\u001b[0m\u001b[0mtest\u001b[0m\u001b[1;33m)\u001b[0m\u001b[1;33m\u001b[0m\u001b[1;33m\u001b[0m\u001b[0m\n\u001b[0m",
      "\u001b[1;31mNameError\u001b[0m: name 'ma' is not defined"
     ]
    }
   ],
   "source": [
    "ma.leader.model_performance (test)"
   ]
  },
  {
   "cell_type": "code",
   "execution_count": null,
   "id": "cross-marketplace",
   "metadata": {},
   "outputs": [],
   "source": []
  }
 ],
 "metadata": {
  "kernelspec": {
   "display_name": "Python 3",
   "language": "python",
   "name": "python3"
  },
  "language_info": {
   "codemirror_mode": {
    "name": "ipython",
    "version": 3
   },
   "file_extension": ".py",
   "mimetype": "text/x-python",
   "name": "python",
   "nbconvert_exporter": "python",
   "pygments_lexer": "ipython3",
   "version": "3.9.2"
  }
 },
 "nbformat": 4,
 "nbformat_minor": 5
}

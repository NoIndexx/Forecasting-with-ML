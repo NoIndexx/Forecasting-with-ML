{
 "cells": [
  {
   "cell_type": "code",
   "execution_count": 1,
   "id": "interesting-harvey",
   "metadata": {},
   "outputs": [],
   "source": [
    "import h2o"
   ]
  },
  {
   "cell_type": "code",
   "execution_count": 2,
   "id": "elder-schema",
   "metadata": {},
   "outputs": [
    {
     "name": "stdout",
     "output_type": "stream",
     "text": [
      "Checking whether there is an H2O instance running at http://localhost:54321 . connected.\n"
     ]
    },
    {
     "data": {
      "text/html": [
       "<div style=\"overflow:auto\"><table style=\"width:50%\"><tr><td>H2O_cluster_uptime:</td>\n",
       "<td>2 mins 34 secs</td></tr>\n",
       "<tr><td>H2O_cluster_timezone:</td>\n",
       "<td>America/Sao_Paulo</td></tr>\n",
       "<tr><td>H2O_data_parsing_timezone:</td>\n",
       "<td>UTC</td></tr>\n",
       "<tr><td>H2O_cluster_version:</td>\n",
       "<td>3.32.0.5</td></tr>\n",
       "<tr><td>H2O_cluster_version_age:</td>\n",
       "<td>3 days </td></tr>\n",
       "<tr><td>H2O_cluster_name:</td>\n",
       "<td>H2O_from_python_renat_ybi9w8</td></tr>\n",
       "<tr><td>H2O_cluster_total_nodes:</td>\n",
       "<td>1</td></tr>\n",
       "<tr><td>H2O_cluster_free_memory:</td>\n",
       "<td>3.527 Gb</td></tr>\n",
       "<tr><td>H2O_cluster_total_cores:</td>\n",
       "<td>8</td></tr>\n",
       "<tr><td>H2O_cluster_allowed_cores:</td>\n",
       "<td>8</td></tr>\n",
       "<tr><td>H2O_cluster_status:</td>\n",
       "<td>locked, healthy</td></tr>\n",
       "<tr><td>H2O_connection_url:</td>\n",
       "<td>http://localhost:54321</td></tr>\n",
       "<tr><td>H2O_connection_proxy:</td>\n",
       "<td>{\"http\": null, \"https\": null}</td></tr>\n",
       "<tr><td>H2O_internal_security:</td>\n",
       "<td>False</td></tr>\n",
       "<tr><td>H2O_API_Extensions:</td>\n",
       "<td>Amazon S3, Algos, AutoML, Core V3, TargetEncoder, Core V4</td></tr>\n",
       "<tr><td>Python_version:</td>\n",
       "<td>3.9.2 final</td></tr></table></div>"
      ],
      "text/plain": [
       "--------------------------  ---------------------------------------------------------\n",
       "H2O_cluster_uptime:         2 mins 34 secs\n",
       "H2O_cluster_timezone:       America/Sao_Paulo\n",
       "H2O_data_parsing_timezone:  UTC\n",
       "H2O_cluster_version:        3.32.0.5\n",
       "H2O_cluster_version_age:    3 days\n",
       "H2O_cluster_name:           H2O_from_python_renat_ybi9w8\n",
       "H2O_cluster_total_nodes:    1\n",
       "H2O_cluster_free_memory:    3.527 Gb\n",
       "H2O_cluster_total_cores:    8\n",
       "H2O_cluster_allowed_cores:  8\n",
       "H2O_cluster_status:         locked, healthy\n",
       "H2O_connection_url:         http://localhost:54321\n",
       "H2O_connection_proxy:       {\"http\": null, \"https\": null}\n",
       "H2O_internal_security:      False\n",
       "H2O_API_Extensions:         Amazon S3, Algos, AutoML, Core V3, TargetEncoder, Core V4\n",
       "Python_version:             3.9.2 final\n",
       "--------------------------  ---------------------------------------------------------"
      ]
     },
     "metadata": {},
     "output_type": "display_data"
    }
   ],
   "source": [
    "h2o.init()"
   ]
  },
  {
   "cell_type": "code",
   "execution_count": 55,
   "id": "ordinary-logging",
   "metadata": {},
   "outputs": [
    {
     "name": "stdout",
     "output_type": "stream",
     "text": [
      "Parse progress: |█████████████████████████████████████████████████████████| 100%\n",
      "Parse progress: |█████████████████████████████████████████████████████████| 100%\n",
      "Parse progress: |█████████████████████████████████████████████████████████| 100%\n",
      "Parse progress: |█████████████████████████████████████████████████████████| 100%\n"
     ]
    }
   ],
   "source": [
    "train = h2o.import_file(\"http://localhost:54321/3/DownloadDataset?frame_id=Amazon_Driverless_CSV___Train.hex\")\n",
    "valid = h2o.import_file(\"http://localhost:54321/3/DownloadDataset?frame_id=Amazon_Driverless_CSV___Validation.hex\")\n",
    "test = h2o.import_file(\"http://localhost:54321/3/DownloadDataset?frame_id=Predicao_arquivo_4___Test.hex\")\n",
    "test1 = h2o.import_file(\"http://localhost:54321/3/DownloadDataset?frame_id=Predicao_arquivo_4___Test1.hex\")"
   ]
  },
  {
   "cell_type": "code",
   "execution_count": 11,
   "id": "threaded-freight",
   "metadata": {},
   "outputs": [
    {
     "data": {
      "text/plain": [
       "4638"
      ]
     },
     "execution_count": 11,
     "metadata": {},
     "output_type": "execute_result"
    }
   ],
   "source": [
    "train.nrows\n",
    "\n"
   ]
  },
  {
   "cell_type": "code",
   "execution_count": 12,
   "id": "caring-falls",
   "metadata": {},
   "outputs": [
    {
     "data": {
      "text/plain": [
       "362"
      ]
     },
     "execution_count": 12,
     "metadata": {},
     "output_type": "execute_result"
    }
   ],
   "source": [
    "valid.nrows"
   ]
  },
  {
   "cell_type": "code",
   "execution_count": 13,
   "id": "veterinary-asbestos",
   "metadata": {},
   "outputs": [
    {
     "data": {
      "text/plain": [
       "251"
      ]
     },
     "execution_count": 13,
     "metadata": {},
     "output_type": "execute_result"
    }
   ],
   "source": [
    "test.nrows"
   ]
  },
  {
   "cell_type": "code",
   "execution_count": 56,
   "id": "subtle-outreach",
   "metadata": {},
   "outputs": [],
   "source": [
    "y= \"Price\"\n",
    "ignoreFields = [\"Price\", \"Open\", \"High\", \"Low\", \"Vol\", \"Change %\"\n",
    "]\n",
    "\n",
    "xAll = [i for i in train.names if i not in ignoreFields]"
   ]
  },
  {
   "cell_type": "code",
   "execution_count": 57,
   "id": "social-clinic",
   "metadata": {},
   "outputs": [],
   "source": [
    "from h2o.estimators.deeplearning import H2ODeepLearningEstimator"
   ]
  },
  {
   "cell_type": "code",
   "execution_count": 58,
   "id": "authorized-grace",
   "metadata": {},
   "outputs": [
    {
     "name": "stdout",
     "output_type": "stream",
     "text": [
      "deeplearning Model Build progress: |██████████████████████████████████████| 100%\n",
      "Wall time: 6.11 s\n"
     ]
    }
   ],
   "source": [
    "m_def = H2ODeepLearningEstimator()\n",
    "%time m_def.train(xAll,y,train,validation_frame= valid)"
   ]
  },
  {
   "cell_type": "code",
   "execution_count": 59,
   "id": "smaller-range",
   "metadata": {},
   "outputs": [
    {
     "name": "stdout",
     "output_type": "stream",
     "text": [
      "\n",
      "ModelMetricsRegression: deeplearning\n",
      "** Reported on test data. **\n",
      "\n",
      "MSE: 138391.44389220234\n",
      "RMSE: 372.0100050969091\n",
      "MAE: 370.7169130466573\n",
      "RMSLE: 0.19015228651302288\n",
      "Mean Residual Deviance: 138391.44389220234\n"
     ]
    },
    {
     "data": {
      "text/plain": []
     },
     "execution_count": 59,
     "metadata": {},
     "output_type": "execute_result"
    }
   ],
   "source": [
    "m_def.model_performance(test1)"
   ]
  },
  {
   "cell_type": "code",
   "execution_count": 60,
   "id": "developed-beauty",
   "metadata": {},
   "outputs": [
    {
     "name": "stdout",
     "output_type": "stream",
     "text": [
      "Model Details\n",
      "=============\n",
      "H2ODeepLearningEstimator :  Deep Learning\n",
      "Model Key:  DeepLearning_model_python_1616180973656_6\n",
      "\n",
      "\n",
      "Status of Neuron Layers: predicting Price, regression, gaussian distribution, Quadratic loss, 40.801 weights/biases, 486,4 KB, 46.380 training samples, mini-batch size 1\n"
     ]
    },
    {
     "data": {
      "text/html": [
       "<div style=\"overflow:auto\"><table style=\"width:50%\"><tr><td><b></b></td>\n",
       "<td><b>layer</b></td>\n",
       "<td><b>units</b></td>\n",
       "<td><b>type</b></td>\n",
       "<td><b>dropout</b></td>\n",
       "<td><b>l1</b></td>\n",
       "<td><b>l2</b></td>\n",
       "<td><b>mean_rate</b></td>\n",
       "<td><b>rate_rms</b></td>\n",
       "<td><b>momentum</b></td>\n",
       "<td><b>mean_weight</b></td>\n",
       "<td><b>weight_rms</b></td>\n",
       "<td><b>mean_bias</b></td>\n",
       "<td><b>bias_rms</b></td></tr>\n",
       "<tr><td></td>\n",
       "<td>1</td>\n",
       "<td>1</td>\n",
       "<td>Input</td>\n",
       "<td>0.0</td>\n",
       "<td></td>\n",
       "<td></td>\n",
       "<td></td>\n",
       "<td></td>\n",
       "<td></td>\n",
       "<td></td>\n",
       "<td></td>\n",
       "<td></td>\n",
       "<td></td></tr>\n",
       "<tr><td></td>\n",
       "<td>2</td>\n",
       "<td>200</td>\n",
       "<td>Rectifier</td>\n",
       "<td>0.0</td>\n",
       "<td>0.0</td>\n",
       "<td>0.0</td>\n",
       "<td>0.0123568</td>\n",
       "<td>0.0256301</td>\n",
       "<td>0.0</td>\n",
       "<td>-0.0605183</td>\n",
       "<td>0.1896522</td>\n",
       "<td>0.3939527</td>\n",
       "<td>0.0758586</td></tr>\n",
       "<tr><td></td>\n",
       "<td>3</td>\n",
       "<td>200</td>\n",
       "<td>Rectifier</td>\n",
       "<td>0.0</td>\n",
       "<td>0.0</td>\n",
       "<td>0.0</td>\n",
       "<td>0.3927600</td>\n",
       "<td>0.3698858</td>\n",
       "<td>0.0</td>\n",
       "<td>-0.0303795</td>\n",
       "<td>0.0868390</td>\n",
       "<td>0.9474870</td>\n",
       "<td>0.0372622</td></tr>\n",
       "<tr><td></td>\n",
       "<td>4</td>\n",
       "<td>1</td>\n",
       "<td>Linear</td>\n",
       "<td></td>\n",
       "<td>0.0</td>\n",
       "<td>0.0</td>\n",
       "<td>0.0138612</td>\n",
       "<td>0.0704556</td>\n",
       "<td>0.0</td>\n",
       "<td>0.0293327</td>\n",
       "<td>0.0688950</td>\n",
       "<td>-0.1158653</td>\n",
       "<td>0.0000000</td></tr></table></div>"
      ],
      "text/plain": [
       "    layer    units    type       dropout    l1    l2    mean_rate             rate_rms              momentum    mean_weight           weight_rms           mean_bias             bias_rms\n",
       "--  -------  -------  ---------  ---------  ----  ----  --------------------  --------------------  ----------  --------------------  -------------------  --------------------  -----------------------\n",
       "    1        1        Input      0.0\n",
       "    2        200      Rectifier  0.0        0.0   0.0   0.012356770187616349  0.025630123913288116  0.0         -0.06051828032708727  0.1896522045135498   0.3939527143628223    0.07585862278938293\n",
       "    3        200      Rectifier  0.0        0.0   0.0   0.3927599582374678    0.36988580226898193   0.0         -0.03037953910173559  0.08683896064758301  0.9474870321709591    0.037262216210365295\n",
       "    4        1        Linear                0.0   0.0   0.013861184699926525  0.0704556405544281    0.0         0.029332714101692546  0.06889495253562927  -0.11586534660708984  1.0971281125650402e-154"
      ]
     },
     "metadata": {},
     "output_type": "display_data"
    },
    {
     "name": "stdout",
     "output_type": "stream",
     "text": [
      "\n",
      "\n",
      "ModelMetricsRegression: deeplearning\n",
      "** Reported on train data. **\n",
      "\n",
      "MSE: 1693.857519354447\n",
      "RMSE: 41.15650032928513\n",
      "MAE: 25.783443272517253\n",
      "RMSLE: 0.37504216068787605\n",
      "Mean Residual Deviance: 1693.857519354447\n",
      "\n",
      "ModelMetricsRegression: deeplearning\n",
      "** Reported on validation data. **\n",
      "\n",
      "MSE: 58412.997234135364\n",
      "RMSE: 241.68780944461258\n",
      "MAE: 215.4165744455675\n",
      "RMSLE: 0.13092646616962672\n",
      "Mean Residual Deviance: 58412.997234135364\n",
      "\n",
      "Scoring History: \n"
     ]
    },
    {
     "data": {
      "text/html": [
       "<div style=\"overflow:auto\"><table style=\"width:50%\"><tr><td><b></b></td>\n",
       "<td><b>timestamp</b></td>\n",
       "<td><b>duration</b></td>\n",
       "<td><b>training_speed</b></td>\n",
       "<td><b>epochs</b></td>\n",
       "<td><b>iterations</b></td>\n",
       "<td><b>samples</b></td>\n",
       "<td><b>training_rmse</b></td>\n",
       "<td><b>training_deviance</b></td>\n",
       "<td><b>training_mae</b></td>\n",
       "<td><b>training_r2</b></td>\n",
       "<td><b>validation_rmse</b></td>\n",
       "<td><b>validation_deviance</b></td>\n",
       "<td><b>validation_mae</b></td>\n",
       "<td><b>validation_r2</b></td></tr>\n",
       "<tr><td></td>\n",
       "<td>2021-03-19 17:08:33</td>\n",
       "<td> 0.000 sec</td>\n",
       "<td>None</td>\n",
       "<td>0.0</td>\n",
       "<td>0</td>\n",
       "<td>0.0</td>\n",
       "<td>nan</td>\n",
       "<td>nan</td>\n",
       "<td>nan</td>\n",
       "<td>nan</td>\n",
       "<td>nan</td>\n",
       "<td>nan</td>\n",
       "<td>nan</td>\n",
       "<td>nan</td></tr>\n",
       "<tr><td></td>\n",
       "<td>2021-03-19 17:08:34</td>\n",
       "<td> 0.369 sec</td>\n",
       "<td>14054 obs/sec</td>\n",
       "<td>1.0</td>\n",
       "<td>1</td>\n",
       "<td>4638.0</td>\n",
       "<td>126.3673388</td>\n",
       "<td>15968.7043267</td>\n",
       "<td>113.5655929</td>\n",
       "<td>0.8654180</td>\n",
       "<td>265.7199560</td>\n",
       "<td>70607.0950056</td>\n",
       "<td>212.0831667</td>\n",
       "<td>-3.4075792</td></tr>\n",
       "<tr><td></td>\n",
       "<td>2021-03-19 17:08:34</td>\n",
       "<td> 1.060 sec</td>\n",
       "<td>46659 obs/sec</td>\n",
       "<td>10.0</td>\n",
       "<td>10</td>\n",
       "<td>46380.0</td>\n",
       "<td>41.1565003</td>\n",
       "<td>1693.8575194</td>\n",
       "<td>25.7834433</td>\n",
       "<td>0.9857244</td>\n",
       "<td>241.6878094</td>\n",
       "<td>58412.9972341</td>\n",
       "<td>215.4165744</td>\n",
       "<td>-2.6463745</td></tr></table></div>"
      ],
      "text/plain": [
       "    timestamp            duration    training_speed    epochs    iterations    samples    training_rmse    training_deviance    training_mae    training_r2    validation_rmse    validation_deviance    validation_mae    validation_r2\n",
       "--  -------------------  ----------  ----------------  --------  ------------  ---------  ---------------  -------------------  --------------  -------------  -----------------  ---------------------  ----------------  ---------------\n",
       "    2021-03-19 17:08:33  0.000 sec                     0         0             0          nan              nan                  nan             nan            nan                nan                    nan               nan\n",
       "    2021-03-19 17:08:34  0.369 sec   14054 obs/sec     1         1             4638       126.367          15968.7              113.566         0.865418       265.72             70607.1                212.083           -3.40758\n",
       "    2021-03-19 17:08:34  1.060 sec   46659 obs/sec     10        10            46380      41.1565          1693.86              25.7834         0.985724       241.688            58413                  215.417           -2.64637"
      ]
     },
     "metadata": {},
     "output_type": "display_data"
    },
    {
     "name": "stdout",
     "output_type": "stream",
     "text": [
      "\n",
      "Variable Importances: \n"
     ]
    },
    {
     "data": {
      "text/html": [
       "<div style=\"overflow:auto\"><table style=\"width:50%\"><tr><td><b>variable</b></td>\n",
       "<td><b>relative_importance</b></td>\n",
       "<td><b>scaled_importance</b></td>\n",
       "<td><b>percentage</b></td></tr>\n",
       "<tr><td>Date</td>\n",
       "<td>1.0</td>\n",
       "<td>1.0</td>\n",
       "<td>1.0</td></tr></table></div>"
      ],
      "text/plain": [
       "variable    relative_importance    scaled_importance    percentage\n",
       "----------  ---------------------  -------------------  ------------\n",
       "Date        1                      1                    1"
      ]
     },
     "metadata": {},
     "output_type": "display_data"
    },
    {
     "data": {
      "text/plain": []
     },
     "execution_count": 60,
     "metadata": {},
     "output_type": "execute_result"
    }
   ],
   "source": [
    "m_def"
   ]
  },
  {
   "cell_type": "code",
   "execution_count": 61,
   "id": "distant-female",
   "metadata": {},
   "outputs": [
    {
     "name": "stdout",
     "output_type": "stream",
     "text": [
      "`matplotlib` library is required for this function!\n"
     ]
    }
   ],
   "source": [
    "m_def.plot()"
   ]
  },
  {
   "cell_type": "code",
   "execution_count": null,
   "id": "frozen-brisbane",
   "metadata": {},
   "outputs": [],
   "source": []
  }
 ],
 "metadata": {
  "kernelspec": {
   "display_name": "Python 3",
   "language": "python",
   "name": "python3"
  },
  "language_info": {
   "codemirror_mode": {
    "name": "ipython",
    "version": 3
   },
   "file_extension": ".py",
   "mimetype": "text/x-python",
   "name": "python",
   "nbconvert_exporter": "python",
   "pygments_lexer": "ipython3",
   "version": "3.9.2"
  }
 },
 "nbformat": 4,
 "nbformat_minor": 5
}

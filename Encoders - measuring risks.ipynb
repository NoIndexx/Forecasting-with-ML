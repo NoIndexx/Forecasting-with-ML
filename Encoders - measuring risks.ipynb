{
 "cells": [
  {
   "cell_type": "code",
   "execution_count": 1,
   "id": "convinced-throw",
   "metadata": {},
   "outputs": [],
   "source": [
    "import h2o"
   ]
  },
  {
   "cell_type": "code",
   "execution_count": 2,
   "id": "limited-priority",
   "metadata": {},
   "outputs": [],
   "source": [
    "import matplotlib.pyplot as plt\n",
    "%matplotlib inline"
   ]
  },
  {
   "cell_type": "code",
   "execution_count": 3,
   "id": "seasonal-parish",
   "metadata": {},
   "outputs": [
    {
     "name": "stdout",
     "output_type": "stream",
     "text": [
      "Checking whether there is an H2O instance running at http://localhost:54321 ..... not found.\n",
      "Attempting to start a local H2O server...\n",
      "; Java HotSpot(TM) 64-Bit Server VM (build 25.281-b09, mixed mode)\n",
      "  Starting server from C:\\Users\\renat\\AppData\\Local\\Programs\\Python\\Python39\\Lib\\site-packages\\h2o\\backend\\bin\\h2o.jar\n",
      "  Ice root: C:\\Users\\renat\\AppData\\Local\\Temp\\tmpocxmrp1s\n",
      "  JVM stdout: C:\\Users\\renat\\AppData\\Local\\Temp\\tmpocxmrp1s\\h2o_renat_started_from_python.out\n",
      "  JVM stderr: C:\\Users\\renat\\AppData\\Local\\Temp\\tmpocxmrp1s\\h2o_renat_started_from_python.err\n",
      "  Server is running at http://127.0.0.1:54321\n",
      "Connecting to H2O server at http://127.0.0.1:54321 ... successful.\n"
     ]
    },
    {
     "data": {
      "text/html": [
       "<div style=\"overflow:auto\"><table style=\"width:50%\"><tr><td>H2O_cluster_uptime:</td>\n",
       "<td>02 secs</td></tr>\n",
       "<tr><td>H2O_cluster_timezone:</td>\n",
       "<td>America/Sao_Paulo</td></tr>\n",
       "<tr><td>H2O_data_parsing_timezone:</td>\n",
       "<td>UTC</td></tr>\n",
       "<tr><td>H2O_cluster_version:</td>\n",
       "<td>3.32.0.5</td></tr>\n",
       "<tr><td>H2O_cluster_version_age:</td>\n",
       "<td>5 days </td></tr>\n",
       "<tr><td>H2O_cluster_name:</td>\n",
       "<td>H2O_from_python_renat_59z9zq</td></tr>\n",
       "<tr><td>H2O_cluster_total_nodes:</td>\n",
       "<td>1</td></tr>\n",
       "<tr><td>H2O_cluster_free_memory:</td>\n",
       "<td>3.543 Gb</td></tr>\n",
       "<tr><td>H2O_cluster_total_cores:</td>\n",
       "<td>8</td></tr>\n",
       "<tr><td>H2O_cluster_allowed_cores:</td>\n",
       "<td>8</td></tr>\n",
       "<tr><td>H2O_cluster_status:</td>\n",
       "<td>accepting new members, healthy</td></tr>\n",
       "<tr><td>H2O_connection_url:</td>\n",
       "<td>http://127.0.0.1:54321</td></tr>\n",
       "<tr><td>H2O_connection_proxy:</td>\n",
       "<td>{\"http\": null, \"https\": null}</td></tr>\n",
       "<tr><td>H2O_internal_security:</td>\n",
       "<td>False</td></tr>\n",
       "<tr><td>H2O_API_Extensions:</td>\n",
       "<td>Amazon S3, Algos, AutoML, Core V3, TargetEncoder, Core V4</td></tr>\n",
       "<tr><td>Python_version:</td>\n",
       "<td>3.9.2 final</td></tr></table></div>"
      ],
      "text/plain": [
       "--------------------------  ---------------------------------------------------------\n",
       "H2O_cluster_uptime:         02 secs\n",
       "H2O_cluster_timezone:       America/Sao_Paulo\n",
       "H2O_data_parsing_timezone:  UTC\n",
       "H2O_cluster_version:        3.32.0.5\n",
       "H2O_cluster_version_age:    5 days\n",
       "H2O_cluster_name:           H2O_from_python_renat_59z9zq\n",
       "H2O_cluster_total_nodes:    1\n",
       "H2O_cluster_free_memory:    3.543 Gb\n",
       "H2O_cluster_total_cores:    8\n",
       "H2O_cluster_allowed_cores:  8\n",
       "H2O_cluster_status:         accepting new members, healthy\n",
       "H2O_connection_url:         http://127.0.0.1:54321\n",
       "H2O_connection_proxy:       {\"http\": null, \"https\": null}\n",
       "H2O_internal_security:      False\n",
       "H2O_API_Extensions:         Amazon S3, Algos, AutoML, Core V3, TargetEncoder, Core V4\n",
       "Python_version:             3.9.2 final\n",
       "--------------------------  ---------------------------------------------------------"
      ]
     },
     "metadata": {},
     "output_type": "display_data"
    }
   ],
   "source": [
    "h2o.init()"
   ]
  },
  {
   "cell_type": "code",
   "execution_count": 4,
   "id": "precise-burst",
   "metadata": {},
   "outputs": [
    {
     "name": "stdout",
     "output_type": "stream",
     "text": [
      "Parse progress: |█████████████████████████████████████████████████████████| 100%\n"
     ]
    }
   ],
   "source": [
    "url = \"http://h2o-public-test-data.s3.amazonaws.com/smalldata/iris/iris_wheader.csv\"\n",
    "iris = h2o.import_file (url)"
   ]
  },
  {
   "cell_type": "code",
   "execution_count": 5,
   "id": "destroyed-return",
   "metadata": {},
   "outputs": [],
   "source": [
    "train, test = iris.split_frame([0.8], seed=123)"
   ]
  },
  {
   "cell_type": "code",
   "execution_count": 6,
   "id": "caring-berkeley",
   "metadata": {},
   "outputs": [
    {
     "data": {
      "text/plain": [
       "121"
      ]
     },
     "execution_count": 6,
     "metadata": {},
     "output_type": "execute_result"
    }
   ],
   "source": [
    "train.nrow"
   ]
  },
  {
   "cell_type": "code",
   "execution_count": 7,
   "id": "sufficient-there",
   "metadata": {},
   "outputs": [
    {
     "data": {
      "text/plain": [
       "29"
      ]
     },
     "execution_count": 7,
     "metadata": {},
     "output_type": "execute_result"
    }
   ],
   "source": [
    "test.nrow"
   ]
  },
  {
   "cell_type": "code",
   "execution_count": 8,
   "id": "excellent-sandwich",
   "metadata": {},
   "outputs": [],
   "source": [
    "x = [\"sepal_len\", \"sepal_wid\", \"petal_len\", \"petal_wid\"]"
   ]
  },
  {
   "cell_type": "code",
   "execution_count": 9,
   "id": "metric-strengthening",
   "metadata": {},
   "outputs": [],
   "source": [
    "from h2o.estimators.deeplearning import H2OAutoEncoderEstimator"
   ]
  },
  {
   "cell_type": "code",
   "execution_count": 10,
   "id": "diverse-system",
   "metadata": {},
   "outputs": [
    {
     "name": "stdout",
     "output_type": "stream",
     "text": [
      "deeplearning Model Build progress: |██████████████████████████████████████| 100%\n",
      "Wall time: 2.82 s\n"
     ]
    }
   ],
   "source": [
    "m_AE_4 = H2OAutoEncoderEstimator(\n",
    "    hidden = [4],\n",
    "    activation = \"Tanh\",\n",
    "    epochs = 300,\n",
    "    model_id = \"m_AE_4\",\n",
    "    \n",
    "    train_samples_per_iteration = train.nrow,\n",
    "    score_interval = 0,\n",
    "    score_duty_cycle = 1.0,\n",
    ")\n",
    "%time m_AE_4.train (x,None,train)"
   ]
  },
  {
   "cell_type": "code",
   "execution_count": 11,
   "id": "applicable-christopher",
   "metadata": {},
   "outputs": [
    {
     "data": {
      "text/html": [
       "<div>\n",
       "<style scoped>\n",
       "    .dataframe tbody tr th:only-of-type {\n",
       "        vertical-align: middle;\n",
       "    }\n",
       "\n",
       "    .dataframe tbody tr th {\n",
       "        vertical-align: top;\n",
       "    }\n",
       "\n",
       "    .dataframe thead th {\n",
       "        text-align: right;\n",
       "    }\n",
       "</style>\n",
       "<table border=\"1\" class=\"dataframe\">\n",
       "  <thead>\n",
       "    <tr style=\"text-align: right;\">\n",
       "      <th></th>\n",
       "      <th></th>\n",
       "      <th>timestamp</th>\n",
       "      <th>duration</th>\n",
       "      <th>training_speed</th>\n",
       "      <th>epochs</th>\n",
       "      <th>iterations</th>\n",
       "      <th>samples</th>\n",
       "      <th>training_rmse</th>\n",
       "      <th>training_mse</th>\n",
       "    </tr>\n",
       "  </thead>\n",
       "  <tbody>\n",
       "    <tr>\n",
       "      <th>0</th>\n",
       "      <td></td>\n",
       "      <td>2021-03-22 13:05:01</td>\n",
       "      <td>0.090 sec</td>\n",
       "      <td>0,00000 obs/sec</td>\n",
       "      <td>0.0</td>\n",
       "      <td>0</td>\n",
       "      <td>0.0</td>\n",
       "      <td>0.337379</td>\n",
       "      <td>0.113825</td>\n",
       "    </tr>\n",
       "    <tr>\n",
       "      <th>1</th>\n",
       "      <td></td>\n",
       "      <td>2021-03-22 13:05:01</td>\n",
       "      <td>0.113 sec</td>\n",
       "      <td>5500 obs/sec</td>\n",
       "      <td>1.0</td>\n",
       "      <td>1</td>\n",
       "      <td>121.0</td>\n",
       "      <td>0.263593</td>\n",
       "      <td>0.069481</td>\n",
       "    </tr>\n",
       "    <tr>\n",
       "      <th>2</th>\n",
       "      <td></td>\n",
       "      <td>2021-03-22 13:05:01</td>\n",
       "      <td>0.118 sec</td>\n",
       "      <td>9307 obs/sec</td>\n",
       "      <td>2.0</td>\n",
       "      <td>2</td>\n",
       "      <td>242.0</td>\n",
       "      <td>0.193908</td>\n",
       "      <td>0.037600</td>\n",
       "    </tr>\n",
       "    <tr>\n",
       "      <th>3</th>\n",
       "      <td></td>\n",
       "      <td>2021-03-22 13:05:01</td>\n",
       "      <td>0.123 sec</td>\n",
       "      <td>12100 obs/sec</td>\n",
       "      <td>3.0</td>\n",
       "      <td>3</td>\n",
       "      <td>363.0</td>\n",
       "      <td>0.139888</td>\n",
       "      <td>0.019569</td>\n",
       "    </tr>\n",
       "    <tr>\n",
       "      <th>4</th>\n",
       "      <td></td>\n",
       "      <td>2021-03-22 13:05:01</td>\n",
       "      <td>0.129 sec</td>\n",
       "      <td>14235 obs/sec</td>\n",
       "      <td>4.0</td>\n",
       "      <td>4</td>\n",
       "      <td>484.0</td>\n",
       "      <td>0.110105</td>\n",
       "      <td>0.012123</td>\n",
       "    </tr>\n",
       "  </tbody>\n",
       "</table>\n",
       "</div>"
      ],
      "text/plain": [
       "               timestamp    duration   training_speed  epochs  iterations  \\\n",
       "0    2021-03-22 13:05:01   0.090 sec  0,00000 obs/sec     0.0           0   \n",
       "1    2021-03-22 13:05:01   0.113 sec     5500 obs/sec     1.0           1   \n",
       "2    2021-03-22 13:05:01   0.118 sec     9307 obs/sec     2.0           2   \n",
       "3    2021-03-22 13:05:01   0.123 sec    12100 obs/sec     3.0           3   \n",
       "4    2021-03-22 13:05:01   0.129 sec    14235 obs/sec     4.0           4   \n",
       "\n",
       "   samples  training_rmse  training_mse  \n",
       "0      0.0       0.337379      0.113825  \n",
       "1    121.0       0.263593      0.069481  \n",
       "2    242.0       0.193908      0.037600  \n",
       "3    363.0       0.139888      0.019569  \n",
       "4    484.0       0.110105      0.012123  "
      ]
     },
     "execution_count": 11,
     "metadata": {},
     "output_type": "execute_result"
    }
   ],
   "source": [
    "sh = m_AE_4.score_history()\n",
    "sh.head()"
   ]
  },
  {
   "cell_type": "code",
   "execution_count": 12,
   "id": "magnetic-hawaii",
   "metadata": {},
   "outputs": [
    {
     "data": {
      "text/plain": [
       "<AxesSubplot:>"
      ]
     },
     "execution_count": 12,
     "metadata": {},
     "output_type": "execute_result"
    },
    {
     "data": {
      "image/png": "[encoded data removed]",
      "text/plain": [
       "<Figure size 432x288 with 1 Axes>"
      ]
     },
     "metadata": {
      "needs_background": "light"
     },
     "output_type": "display_data"
    }
   ],
   "source": [
    "sh[\"training_mse\"].plot()"
   ]
  },
  {
   "cell_type": "code",
   "execution_count": 13,
   "id": "electronic-acrobat",
   "metadata": {},
   "outputs": [
    {
     "data": {
      "text/plain": [
       "<AxesSubplot:>"
      ]
     },
     "execution_count": 13,
     "metadata": {},
     "output_type": "execute_result"
    },
    {
     "data": {
      "image/png": "[encoded data removed]",
      "text/plain": [
       "<Figure size 432x288 with 1 Axes>"
      ]
     },
     "metadata": {
      "needs_background": "light"
     },
     "output_type": "display_data"
    }
   ],
   "source": [
    "sh[\"training_mse\"].tail(50).plot()"
   ]
  },
  {
   "cell_type": "code",
   "execution_count": 14,
   "id": "completed-stability",
   "metadata": {},
   "outputs": [
    {
     "name": "stdout",
     "output_type": "stream",
     "text": [
      "deeplearning Model Build progress: |██████████████████████████████████████| 100%\n",
      "Wall time: 1.1 s\n"
     ]
    }
   ],
   "source": [
    "m_AE_4 = H2OAutoEncoderEstimator(\n",
    "    hidden = [4],\n",
    "    activation = \"Tanh\",\n",
    "    epochs = 300,\n",
    "    model_id = \"m_AE_4\",\n",
    "    \n",
    "    train_samples_per_iteration = train.nrow,\n",
    "    score_interval = 0,\n",
    "    score_duty_cycle = 1.0,\n",
    "    stopping_rounds = 15\n",
    ")\n",
    "%time m_AE_4.train (x,None,train)"
   ]
  },
  {
   "cell_type": "code",
   "execution_count": 15,
   "id": "eleven-harris",
   "metadata": {},
   "outputs": [
    {
     "data": {
      "text/plain": [
       "<AxesSubplot:>"
      ]
     },
     "execution_count": 15,
     "metadata": {},
     "output_type": "execute_result"
    },
    {
     "data": {
      "image/png": "[encoded data removed]",
      "text/plain": [
       "<Figure size 432x288 with 1 Axes>"
      ]
     },
     "metadata": {
      "needs_background": "light"
     },
     "output_type": "display_data"
    }
   ],
   "source": [
    "sh = m_AE_4.score_history()\n",
    "sh[\"training_mse\"].tail(50).plot()"
   ]
  },
  {
   "cell_type": "code",
   "execution_count": 20,
   "id": "indie-courtesy",
   "metadata": {},
   "outputs": [
    {
     "name": "stdout",
     "output_type": "stream",
     "text": [
      "deeplearning Model Build progress: |██████████████████████████████████████| 100%\n",
      "Wall time: 1.07 s\n"
     ]
    }
   ],
   "source": [
    "m_AE_3 = H2OAutoEncoderEstimator(\n",
    "    hidden = [3],\n",
    "    activation = \"Tanh\",\n",
    "    epochs = 300,\n",
    "    model_id = \"m_AE_4\",\n",
    "    \n",
    "    train_samples_per_iteration = train.nrow,\n",
    "    score_interval = 0,\n",
    "    score_duty_cycle = 1.0,\n",
    "    stopping_rounds = 15\n",
    ")\n",
    "%time m_AE_3.train (x,None,train)"
   ]
  },
  {
   "cell_type": "code",
   "execution_count": 21,
   "id": "static-england",
   "metadata": {},
   "outputs": [
    {
     "data": {
      "text/plain": [
       "<AxesSubplot:>"
      ]
     },
     "execution_count": 21,
     "metadata": {},
     "output_type": "execute_result"
    },
    {
     "data": {
      "image/png": "[encoded data removed]",
      "text/plain": [
       "<Figure size 432x288 with 1 Axes>"
      ]
     },
     "metadata": {
      "needs_background": "light"
     },
     "output_type": "display_data"
    }
   ],
   "source": [
    "sh = m_AE_3.score_history()\n",
    "sh[\"training_mse\"].tail(50).plot()"
   ]
  },
  {
   "cell_type": "code",
   "execution_count": 22,
   "id": "killing-defense",
   "metadata": {},
   "outputs": [
    {
     "name": "stdout",
     "output_type": "stream",
     "text": [
      "deeplearning Model Build progress: |██████████████████████████████████████| 100%\n",
      "Wall time: 1.06 s\n"
     ]
    }
   ],
   "source": [
    "m_AE_2 = H2OAutoEncoderEstimator(\n",
    "    hidden = [2],\n",
    "    activation = \"Tanh\",\n",
    "    epochs = 300,\n",
    "    model_id = \"m_AE_4\",\n",
    "    \n",
    "    train_samples_per_iteration = train.nrow,\n",
    "    score_interval = 0,\n",
    "    score_duty_cycle = 1.0,\n",
    "    stopping_rounds = 15\n",
    ")\n",
    "%time m_AE_2.train (x,None,train)"
   ]
  },
  {
   "cell_type": "code",
   "execution_count": 23,
   "id": "pleasant-situation",
   "metadata": {},
   "outputs": [
    {
     "data": {
      "text/plain": [
       "<AxesSubplot:>"
      ]
     },
     "execution_count": 23,
     "metadata": {},
     "output_type": "execute_result"
    },
    {
     "data": {
      "image/png": "[encoded data removed]",
      "text/plain": [
       "<Figure size 432x288 with 1 Axes>"
      ]
     },
     "metadata": {
      "needs_background": "light"
     },
     "output_type": "display_data"
    }
   ],
   "source": [
    "sh = m_AE_2.score_history()\n",
    "sh[\"training_mse\"].tail(50).plot()"
   ]
  },
  {
   "cell_type": "code",
   "execution_count": 24,
   "id": "blind-belize",
   "metadata": {},
   "outputs": [
    {
     "name": "stdout",
     "output_type": "stream",
     "text": [
      "deeplearning Model Build progress: |██████████████████████████████████████| 100%\n",
      "Wall time: 1.06 s\n"
     ]
    }
   ],
   "source": [
    "m_AE_1 = H2OAutoEncoderEstimator(\n",
    "    hidden = [1],\n",
    "    activation = \"Tanh\",\n",
    "    epochs = 300,\n",
    "    model_id = \"m_AE_4\",\n",
    "    \n",
    "    train_samples_per_iteration = train.nrow,\n",
    "    score_interval = 0,\n",
    "    score_duty_cycle = 1.0,\n",
    "    stopping_rounds = 15\n",
    ")\n",
    "%time m_AE_1.train (x,None,train)"
   ]
  },
  {
   "cell_type": "code",
   "execution_count": 25,
   "id": "concerned-lover",
   "metadata": {},
   "outputs": [
    {
     "data": {
      "text/plain": [
       "<AxesSubplot:>"
      ]
     },
     "execution_count": 25,
     "metadata": {},
     "output_type": "execute_result"
    },
    {
     "data": {
      "image/png": "[encoded data removed]",
      "text/plain": [
       "<Figure size 432x288 with 1 Axes>"
      ]
     },
     "metadata": {
      "needs_background": "light"
     },
     "output_type": "display_data"
    }
   ],
   "source": [
    "sh = m_AE_1.score_history()\n",
    "sh[\"training_mse\"].tail(50).plot()"
   ]
  },
  {
   "cell_type": "code",
   "execution_count": 26,
   "id": "unauthorized-nelson",
   "metadata": {},
   "outputs": [
    {
     "name": "stdout",
     "output_type": "stream",
     "text": [
      "deeplearning Model Build progress: |██████████████████████████████████████| 100%\n",
      "Wall time: 1.07 s\n"
     ]
    }
   ],
   "source": [
    "m_AE_10 = H2OAutoEncoderEstimator(\n",
    "    hidden = [10],\n",
    "    activation = \"Tanh\",\n",
    "    epochs = 300,\n",
    "    model_id = \"m_AE_4\",\n",
    "    \n",
    "    train_samples_per_iteration = train.nrow,\n",
    "    score_interval = 0,\n",
    "    score_duty_cycle = 1.0,\n",
    "    stopping_rounds = 15\n",
    ")\n",
    "%time m_AE_10.train (x,None,train)"
   ]
  },
  {
   "cell_type": "code",
   "execution_count": 27,
   "id": "exotic-import",
   "metadata": {},
   "outputs": [
    {
     "data": {
      "text/plain": [
       "<AxesSubplot:>"
      ]
     },
     "execution_count": 27,
     "metadata": {},
     "output_type": "execute_result"
    },
    {
     "data": {
      "image/png": "[encoded data removed]",
      "text/plain": [
       "<Figure size 432x288 with 1 Axes>"
      ]
     },
     "metadata": {
      "needs_background": "light"
     },
     "output_type": "display_data"
    }
   ],
   "source": [
    "sh = m_AE_10.score_history()\n",
    "sh[\"training_mse\"].tail(50).plot()"
   ]
  },
  {
   "cell_type": "code",
   "execution_count": 28,
   "id": "national-stephen",
   "metadata": {},
   "outputs": [
    {
     "name": "stdout",
     "output_type": "stream",
     "text": [
      "deeplearning Model Build progress: |██████████████████████████████████████| 100%\n",
      "Wall time: 1.07 s\n"
     ]
    }
   ],
   "source": [
    "m_AE_5_3_5 = H2OAutoEncoderEstimator(\n",
    "    hidden = [5,3,5],\n",
    "    activation = \"Tanh\",\n",
    "    epochs = 300,\n",
    "    model_id = \"m_AE_4\",\n",
    "    \n",
    "    train_samples_per_iteration = train.nrow,\n",
    "    score_interval = 0,\n",
    "    score_duty_cycle = 1.0,\n",
    "    stopping_rounds = 15\n",
    ")\n",
    "%time m_AE_5_3_5.train (x,None,train)"
   ]
  },
  {
   "cell_type": "code",
   "execution_count": 29,
   "id": "urban-sugar",
   "metadata": {},
   "outputs": [
    {
     "data": {
      "text/plain": [
       "<AxesSubplot:>"
      ]
     },
     "execution_count": 29,
     "metadata": {},
     "output_type": "execute_result"
    },
    {
     "data": {
      "image/png": "[encoded data removed]",
      "text/plain": [
       "<Figure size 432x288 with 1 Axes>"
      ]
     },
     "metadata": {
      "needs_background": "light"
     },
     "output_type": "display_data"
    }
   ],
   "source": [
    "sh = m_AE_5_3_5.score_history()\n",
    "sh[\"training_mse\"].tail(50).plot()"
   ]
  },
  {
   "cell_type": "code",
   "execution_count": 30,
   "id": "binary-cache",
   "metadata": {},
   "outputs": [
    {
     "name": "stdout",
     "output_type": "stream",
     "text": [
      "deepfeatures progress: |██████████████████████████████████████████████████| 100%\n"
     ]
    }
   ],
   "source": [
    "train_AE_3 = m_AE_3.deepfeatures(train,0) # 0 significa o layer 1"
   ]
  },
  {
   "cell_type": "code",
   "execution_count": 31,
   "id": "expanded-brooklyn",
   "metadata": {},
   "outputs": [
    {
     "data": {
      "text/plain": [
       "[121, 5]"
      ]
     },
     "execution_count": 31,
     "metadata": {},
     "output_type": "execute_result"
    }
   ],
   "source": [
    "train_AE_3.dim"
   ]
  },
  {
   "cell_type": "code",
   "execution_count": 32,
   "id": "peaceful-tender",
   "metadata": {},
   "outputs": [
    {
     "data": {
      "text/html": [
       "<table>\n",
       "<thead>\n",
       "<tr><th style=\"text-align: right;\">  DF.L1.C1</th><th style=\"text-align: right;\">  DF.L1.C2</th><th style=\"text-align: right;\">  DF.L1.C3</th><th style=\"text-align: right;\">  DF.L1.C4</th><th style=\"text-align: right;\">  DF.L1.C5</th></tr>\n",
       "</thead>\n",
       "<tbody>\n",
       "<tr><td style=\"text-align: right;\">-0.196416 </td><td style=\"text-align: right;\"> -0.458386</td><td style=\"text-align: right;\">-0.161542 </td><td style=\"text-align: right;\">  0.220151</td><td style=\"text-align: right;\"> -0.381432</td></tr>\n",
       "<tr><td style=\"text-align: right;\">-0.0600597</td><td style=\"text-align: right;\"> -0.437611</td><td style=\"text-align: right;\">-0.342838 </td><td style=\"text-align: right;\">  0.166817</td><td style=\"text-align: right;\"> -0.428559</td></tr>\n",
       "<tr><td style=\"text-align: right;\">-0.098517 </td><td style=\"text-align: right;\"> -0.444361</td><td style=\"text-align: right;\">-0.32497  </td><td style=\"text-align: right;\">  0.247876</td><td style=\"text-align: right;\"> -0.431214</td></tr>\n",
       "<tr><td style=\"text-align: right;\">-0.0507285</td><td style=\"text-align: right;\"> -0.414937</td><td style=\"text-align: right;\">-0.368806 </td><td style=\"text-align: right;\">  0.232522</td><td style=\"text-align: right;\"> -0.454606</td></tr>\n",
       "<tr><td style=\"text-align: right;\">-0.211354 </td><td style=\"text-align: right;\"> -0.45626 </td><td style=\"text-align: right;\">-0.151432 </td><td style=\"text-align: right;\">  0.256154</td><td style=\"text-align: right;\"> -0.385189</td></tr>\n",
       "<tr><td style=\"text-align: right;\">-0.263624 </td><td style=\"text-align: right;\"> -0.407588</td><td style=\"text-align: right;\"> 0.0255477</td><td style=\"text-align: right;\">  0.264888</td><td style=\"text-align: right;\"> -0.289795</td></tr>\n",
       "<tr><td style=\"text-align: right;\">-0.115817 </td><td style=\"text-align: right;\"> -0.412958</td><td style=\"text-align: right;\">-0.28594  </td><td style=\"text-align: right;\">  0.318071</td><td style=\"text-align: right;\"> -0.409426</td></tr>\n",
       "<tr><td style=\"text-align: right;\">-0.157157 </td><td style=\"text-align: right;\"> -0.440564</td><td style=\"text-align: right;\">-0.210252 </td><td style=\"text-align: right;\">  0.212635</td><td style=\"text-align: right;\"> -0.401375</td></tr>\n",
       "<tr><td style=\"text-align: right;\">-0.260056 </td><td style=\"text-align: right;\"> -0.465492</td><td style=\"text-align: right;\">-0.0398072</td><td style=\"text-align: right;\">  0.19257 </td><td style=\"text-align: right;\"> -0.345287</td></tr>\n",
       "<tr><td style=\"text-align: right;\">-0.132737 </td><td style=\"text-align: right;\"> -0.420177</td><td style=\"text-align: right;\">-0.248238 </td><td style=\"text-align: right;\">  0.24136 </td><td style=\"text-align: right;\"> -0.424561</td></tr>\n",
       "</tbody>\n",
       "</table>"
      ]
     },
     "metadata": {},
     "output_type": "display_data"
    },
    {
     "data": {
      "text/plain": []
     },
     "execution_count": 32,
     "metadata": {},
     "output_type": "execute_result"
    }
   ],
   "source": [
    "train_AE_3"
   ]
  },
  {
   "cell_type": "code",
   "execution_count": 33,
   "id": "derived-premium",
   "metadata": {},
   "outputs": [],
   "source": [
    "x = [\"sepal_len\", \"sepal_wid\", \"petal_len\", \"petal_wid\", \"class\"]"
   ]
  },
  {
   "cell_type": "code",
   "execution_count": 36,
   "id": "stopped-melissa",
   "metadata": {},
   "outputs": [
    {
     "name": "stdout",
     "output_type": "stream",
     "text": [
      "deeplearning Model Build progress: |██████████████████████████████████████| 100%\n",
      "Wall time: 1.58 s\n"
     ]
    }
   ],
   "source": [
    "m_anomaly16 = H2OAutoEncoderEstimator (\n",
    "    hidden = [16],\n",
    "    activation = \"Tanh\",\n",
    "    epochs = 300,\n",
    "    model_id = \"m_anomaly16\",\n",
    "    \n",
    "    train_samples_per_iteration = train.nrow,\n",
    "    score_interval = 0,\n",
    "    score_duty_cycle = 1.0,\n",
    "    stopping_rounds = 15\n",
    ")\n",
    "%time m_anomaly16.train(x,None,iris)\n"
   ]
  },
  {
   "cell_type": "code",
   "execution_count": 37,
   "id": "graphic-express",
   "metadata": {},
   "outputs": [],
   "source": [
    "anomalies = m_anomaly16.anomaly(iris).cbind(iris).as_data_frame()"
   ]
  },
  {
   "cell_type": "code",
   "execution_count": 39,
   "id": "elegant-ending",
   "metadata": {},
   "outputs": [],
   "source": [
    "s = anomalies.sort_values (\"Reconstruction.MSE\", ascending= False)"
   ]
  },
  {
   "cell_type": "code",
   "execution_count": 40,
   "id": "weekly-society",
   "metadata": {},
   "outputs": [
    {
     "data": {
      "text/html": [
       "<div>\n",
       "<style scoped>\n",
       "    .dataframe tbody tr th:only-of-type {\n",
       "        vertical-align: middle;\n",
       "    }\n",
       "\n",
       "    .dataframe tbody tr th {\n",
       "        vertical-align: top;\n",
       "    }\n",
       "\n",
       "    .dataframe thead th {\n",
       "        text-align: right;\n",
       "    }\n",
       "</style>\n",
       "<table border=\"1\" class=\"dataframe\">\n",
       "  <thead>\n",
       "    <tr style=\"text-align: right;\">\n",
       "      <th></th>\n",
       "      <th>Reconstruction.MSE</th>\n",
       "      <th>sepal_len</th>\n",
       "      <th>sepal_wid</th>\n",
       "      <th>petal_len</th>\n",
       "      <th>petal_wid</th>\n",
       "      <th>class</th>\n",
       "    </tr>\n",
       "  </thead>\n",
       "  <tbody>\n",
       "    <tr>\n",
       "      <th>118</th>\n",
       "      <td>0.000750</td>\n",
       "      <td>7.7</td>\n",
       "      <td>2.6</td>\n",
       "      <td>6.9</td>\n",
       "      <td>2.3</td>\n",
       "      <td>Iris-virginica</td>\n",
       "    </tr>\n",
       "    <tr>\n",
       "      <th>106</th>\n",
       "      <td>0.000730</td>\n",
       "      <td>4.9</td>\n",
       "      <td>2.5</td>\n",
       "      <td>4.5</td>\n",
       "      <td>1.7</td>\n",
       "      <td>Iris-virginica</td>\n",
       "    </tr>\n",
       "    <tr>\n",
       "      <th>122</th>\n",
       "      <td>0.000716</td>\n",
       "      <td>7.7</td>\n",
       "      <td>2.8</td>\n",
       "      <td>6.7</td>\n",
       "      <td>2.0</td>\n",
       "      <td>Iris-virginica</td>\n",
       "    </tr>\n",
       "    <tr>\n",
       "      <th>60</th>\n",
       "      <td>0.000680</td>\n",
       "      <td>5.0</td>\n",
       "      <td>2.0</td>\n",
       "      <td>3.5</td>\n",
       "      <td>1.0</td>\n",
       "      <td>Iris-versicolor</td>\n",
       "    </tr>\n",
       "    <tr>\n",
       "      <th>57</th>\n",
       "      <td>0.000593</td>\n",
       "      <td>4.9</td>\n",
       "      <td>2.4</td>\n",
       "      <td>3.3</td>\n",
       "      <td>1.0</td>\n",
       "      <td>Iris-versicolor</td>\n",
       "    </tr>\n",
       "  </tbody>\n",
       "</table>\n",
       "</div>"
      ],
      "text/plain": [
       "     Reconstruction.MSE  sepal_len  sepal_wid  petal_len  petal_wid  \\\n",
       "118            0.000750        7.7        2.6        6.9        2.3   \n",
       "106            0.000730        4.9        2.5        4.5        1.7   \n",
       "122            0.000716        7.7        2.8        6.7        2.0   \n",
       "60             0.000680        5.0        2.0        3.5        1.0   \n",
       "57             0.000593        4.9        2.4        3.3        1.0   \n",
       "\n",
       "               class  \n",
       "118   Iris-virginica  \n",
       "106   Iris-virginica  \n",
       "122   Iris-virginica  \n",
       "60   Iris-versicolor  \n",
       "57   Iris-versicolor  "
      ]
     },
     "execution_count": 40,
     "metadata": {},
     "output_type": "execute_result"
    }
   ],
   "source": [
    "s.head()"
   ]
  },
  {
   "cell_type": "code",
   "execution_count": 41,
   "id": "piano-india",
   "metadata": {},
   "outputs": [
    {
     "data": {
      "text/html": [
       "<div>\n",
       "<style scoped>\n",
       "    .dataframe tbody tr th:only-of-type {\n",
       "        vertical-align: middle;\n",
       "    }\n",
       "\n",
       "    .dataframe tbody tr th {\n",
       "        vertical-align: top;\n",
       "    }\n",
       "\n",
       "    .dataframe thead th {\n",
       "        text-align: right;\n",
       "    }\n",
       "</style>\n",
       "<table border=\"1\" class=\"dataframe\">\n",
       "  <thead>\n",
       "    <tr style=\"text-align: right;\">\n",
       "      <th></th>\n",
       "      <th>Reconstruction.MSE</th>\n",
       "      <th>sepal_len</th>\n",
       "      <th>sepal_wid</th>\n",
       "      <th>petal_len</th>\n",
       "      <th>petal_wid</th>\n",
       "      <th>class</th>\n",
       "    </tr>\n",
       "  </thead>\n",
       "  <tbody>\n",
       "    <tr>\n",
       "      <th>19</th>\n",
       "      <td>0.000144</td>\n",
       "      <td>5.1</td>\n",
       "      <td>3.8</td>\n",
       "      <td>1.5</td>\n",
       "      <td>0.3</td>\n",
       "      <td>Iris-setosa</td>\n",
       "    </tr>\n",
       "    <tr>\n",
       "      <th>21</th>\n",
       "      <td>0.000136</td>\n",
       "      <td>5.1</td>\n",
       "      <td>3.7</td>\n",
       "      <td>1.5</td>\n",
       "      <td>0.4</td>\n",
       "      <td>Iris-setosa</td>\n",
       "    </tr>\n",
       "    <tr>\n",
       "      <th>22</th>\n",
       "      <td>0.000123</td>\n",
       "      <td>4.6</td>\n",
       "      <td>3.6</td>\n",
       "      <td>1.0</td>\n",
       "      <td>0.2</td>\n",
       "      <td>Iris-setosa</td>\n",
       "    </tr>\n",
       "    <tr>\n",
       "      <th>14</th>\n",
       "      <td>0.000120</td>\n",
       "      <td>5.8</td>\n",
       "      <td>4.0</td>\n",
       "      <td>1.2</td>\n",
       "      <td>0.2</td>\n",
       "      <td>Iris-setosa</td>\n",
       "    </tr>\n",
       "    <tr>\n",
       "      <th>16</th>\n",
       "      <td>0.000106</td>\n",
       "      <td>5.4</td>\n",
       "      <td>3.9</td>\n",
       "      <td>1.3</td>\n",
       "      <td>0.4</td>\n",
       "      <td>Iris-setosa</td>\n",
       "    </tr>\n",
       "  </tbody>\n",
       "</table>\n",
       "</div>"
      ],
      "text/plain": [
       "    Reconstruction.MSE  sepal_len  sepal_wid  petal_len  petal_wid  \\\n",
       "19            0.000144        5.1        3.8        1.5        0.3   \n",
       "21            0.000136        5.1        3.7        1.5        0.4   \n",
       "22            0.000123        4.6        3.6        1.0        0.2   \n",
       "14            0.000120        5.8        4.0        1.2        0.2   \n",
       "16            0.000106        5.4        3.9        1.3        0.4   \n",
       "\n",
       "          class  \n",
       "19  Iris-setosa  \n",
       "21  Iris-setosa  \n",
       "22  Iris-setosa  \n",
       "14  Iris-setosa  \n",
       "16  Iris-setosa  "
      ]
     },
     "execution_count": 41,
     "metadata": {},
     "output_type": "execute_result"
    }
   ],
   "source": [
    "s.tail()"
   ]
  },
  {
   "cell_type": "code",
   "execution_count": null,
   "id": "former-commonwealth",
   "metadata": {},
   "outputs": [],
   "source": []
  }
 ],
 "metadata": {
  "kernelspec": {
   "display_name": "Python 3",
   "language": "python",
   "name": "python3"
  },
  "language_info": {
   "codemirror_mode": {
    "name": "ipython",
    "version": 3
   },
   "file_extension": ".py",
   "mimetype": "text/x-python",
   "name": "python",
   "nbconvert_exporter": "python",
   "pygments_lexer": "ipython3",
   "version": "3.9.2"
  }
 },
 "nbformat": 4,
 "nbformat_minor": 5
}

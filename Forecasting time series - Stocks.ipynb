{
 "cells": [
  {
   "cell_type": "code",
   "execution_count": 1,
   "id": "creative-presence",
   "metadata": {},
   "outputs": [],
   "source": [
    "import h2o"
   ]
  },
  {
   "cell_type": "code",
   "execution_count": 2,
   "id": "buried-telling",
   "metadata": {},
   "outputs": [
    {
     "name": "stdout",
     "output_type": "stream",
     "text": [
      "Checking whether there is an H2O instance running at http://localhost:54321 . connected.\n"
     ]
    },
    {
     "data": {
      "text/html": [
       "<div style=\"overflow:auto\"><table style=\"width:50%\"><tr><td>H2O_cluster_uptime:</td>\n",
       "<td>1 hour 23 mins</td></tr>\n",
       "<tr><td>H2O_cluster_timezone:</td>\n",
       "<td>America/Sao_Paulo</td></tr>\n",
       "<tr><td>H2O_data_parsing_timezone:</td>\n",
       "<td>UTC</td></tr>\n",
       "<tr><td>H2O_cluster_version:</td>\n",
       "<td>3.32.0.5</td></tr>\n",
       "<tr><td>H2O_cluster_version_age:</td>\n",
       "<td>3 days </td></tr>\n",
       "<tr><td>H2O_cluster_name:</td>\n",
       "<td>H2O_from_python_renat_ybi9w8</td></tr>\n",
       "<tr><td>H2O_cluster_total_nodes:</td>\n",
       "<td>1</td></tr>\n",
       "<tr><td>H2O_cluster_free_memory:</td>\n",
       "<td>3.218 Gb</td></tr>\n",
       "<tr><td>H2O_cluster_total_cores:</td>\n",
       "<td>8</td></tr>\n",
       "<tr><td>H2O_cluster_allowed_cores:</td>\n",
       "<td>8</td></tr>\n",
       "<tr><td>H2O_cluster_status:</td>\n",
       "<td>locked, healthy</td></tr>\n",
       "<tr><td>H2O_connection_url:</td>\n",
       "<td>http://localhost:54321</td></tr>\n",
       "<tr><td>H2O_connection_proxy:</td>\n",
       "<td>{\"http\": null, \"https\": null}</td></tr>\n",
       "<tr><td>H2O_internal_security:</td>\n",
       "<td>False</td></tr>\n",
       "<tr><td>H2O_API_Extensions:</td>\n",
       "<td>Amazon S3, Algos, AutoML, Core V3, TargetEncoder, Core V4</td></tr>\n",
       "<tr><td>Python_version:</td>\n",
       "<td>3.9.2 final</td></tr></table></div>"
      ],
      "text/plain": [
       "--------------------------  ---------------------------------------------------------\n",
       "H2O_cluster_uptime:         1 hour 23 mins\n",
       "H2O_cluster_timezone:       America/Sao_Paulo\n",
       "H2O_data_parsing_timezone:  UTC\n",
       "H2O_cluster_version:        3.32.0.5\n",
       "H2O_cluster_version_age:    3 days\n",
       "H2O_cluster_name:           H2O_from_python_renat_ybi9w8\n",
       "H2O_cluster_total_nodes:    1\n",
       "H2O_cluster_free_memory:    3.218 Gb\n",
       "H2O_cluster_total_cores:    8\n",
       "H2O_cluster_allowed_cores:  8\n",
       "H2O_cluster_status:         locked, healthy\n",
       "H2O_connection_url:         http://localhost:54321\n",
       "H2O_connection_proxy:       {\"http\": null, \"https\": null}\n",
       "H2O_internal_security:      False\n",
       "H2O_API_Extensions:         Amazon S3, Algos, AutoML, Core V3, TargetEncoder, Core V4\n",
       "Python_version:             3.9.2 final\n",
       "--------------------------  ---------------------------------------------------------"
      ]
     },
     "metadata": {},
     "output_type": "display_data"
    }
   ],
   "source": [
    "h2o.init()"
   ]
  },
  {
   "cell_type": "code",
   "execution_count": 3,
   "id": "lined-period",
   "metadata": {},
   "outputs": [
    {
     "name": "stdout",
     "output_type": "stream",
     "text": [
      "Parse progress: |█████████████████████████████████████████████████████████| 100%\n",
      "Parse progress: |█████████████████████████████████████████████████████████| 100%\n",
      "Parse progress: |█████████████████████████████████████████████████████████| 100%\n",
      "Parse progress: |█████████████████████████████████████████████████████████| 100%\n"
     ]
    }
   ],
   "source": [
    "train = h2o.import_file(\"http://localhost:54321/3/DownloadDataset?frame_id=Amazon_Driverless_CSV___Train.hex\")\n",
    "valid = h2o.import_file(\"http://localhost:54321/3/DownloadDataset?frame_id=Amazon_Driverless_CSV___Validation.hex\")\n",
    "test = h2o.import_file(\"http://localhost:54321/3/DownloadDataset?frame_id=Predicao_arquivo_4___Test.hex\")\n",
    "test1 = h2o.import_file(\"http://localhost:54321/3/DownloadDataset?frame_id=Predicao_arquivo_4___Test1.hex\")"
   ]
  },
  {
   "cell_type": "code",
   "execution_count": 54,
   "id": "motivated-plasma",
   "metadata": {},
   "outputs": [],
   "source": [
    "y= (\"Price\") \n",
    "ignoreFields = [ \"Price\"\n",
    "]                                         #\"Open\", \"High\", \"Low\", \"Vol\",\"Price\",\n",
    "\n",
    "xWithDep = [i for i in train.names if i not in ignoreFields]"
   ]
  },
  {
   "cell_type": "code",
   "execution_count": 55,
   "id": "funny-uniform",
   "metadata": {},
   "outputs": [],
   "source": [
    "from h2o.estimators.deeplearning import H2ODeepLearningEstimator"
   ]
  },
  {
   "cell_type": "code",
   "execution_count": 56,
   "id": "together-asset",
   "metadata": {},
   "outputs": [
    {
     "name": "stdout",
     "output_type": "stream",
     "text": [
      "deeplearning Model Build progress: |██████████████████████████████████████| 100%\n",
      "Wall time: 6.09 s\n"
     ]
    }
   ],
   "source": [
    "m_DLR_def = H2ODeepLearningEstimator(variable_importances= True)\n",
    "%time m_DLR_def.train(xWithDep,y,train,validation_frame= valid)"
   ]
  },
  {
   "cell_type": "code",
   "execution_count": 42,
   "id": "comparable-turner",
   "metadata": {},
   "outputs": [
    {
     "name": "stdout",
     "output_type": "stream",
     "text": [
      "\n",
      "ModelMetricsRegression: deeplearning\n",
      "** Reported on test data. **\n",
      "\n",
      "MSE: 3178.448717341729\n",
      "RMSE: 56.37773246009216\n",
      "MAE: 52.125109077015885\n",
      "RMSLE: 0.031000812512576664\n",
      "Mean Residual Deviance: 3178.448717341729\n"
     ]
    },
    {
     "data": {
      "text/plain": []
     },
     "execution_count": 42,
     "metadata": {},
     "output_type": "execute_result"
    }
   ],
   "source": [
    "m_DLR_def.model_performance(valid)"
   ]
  },
  {
   "cell_type": "code",
   "execution_count": 57,
   "id": "executive-adelaide",
   "metadata": {},
   "outputs": [
    {
     "name": "stdout",
     "output_type": "stream",
     "text": [
      "deeplearning Model Build progress: |██████████████████████████████████████| 100%\n",
      "Wall time: 2min 9s\n"
     ]
    }
   ],
   "source": [
    "m_DLR_200_epochs = H2ODeepLearningEstimator(\n",
    "    variable_importances=True,\n",
    "    epochs=1000000,\n",
    "    stopping_rounds=5,\n",
    "    stopping_tolerance=0.0,\n",
    "    stopping_metric=\"deviance\"\n",
    ")\n",
    "%time m_DLR_200_epochs.train(xWithDep, y, train, validation_frame=valid)"
   ]
  },
  {
   "cell_type": "code",
   "execution_count": 50,
   "id": "quiet-office",
   "metadata": {},
   "outputs": [
    {
     "name": "stdout",
     "output_type": "stream",
     "text": [
      "\n",
      "ModelMetricsRegression: deeplearning\n",
      "** Reported on test data. **\n",
      "\n",
      "MSE: 135.86444544874254\n",
      "RMSE: 11.656090487326466\n",
      "MAE: 8.865869055177244\n",
      "RMSLE: 0.006774762937951375\n",
      "Mean Residual Deviance: 135.86444544874254\n"
     ]
    },
    {
     "data": {
      "text/plain": []
     },
     "execution_count": 50,
     "metadata": {},
     "output_type": "execute_result"
    }
   ],
   "source": [
    "m_DLR_200_epochs.model_performance(valid)"
   ]
  },
  {
   "cell_type": "code",
   "execution_count": 51,
   "id": "collectible-resource",
   "metadata": {},
   "outputs": [
    {
     "name": "stdout",
     "output_type": "stream",
     "text": [
      "\n",
      "ModelMetricsRegression: deeplearning\n",
      "** Reported on test data. **\n",
      "\n",
      "MSE: 65.96331476863162\n",
      "RMSE: 8.121780270890836\n",
      "MAE: 6.400944840420517\n",
      "RMSLE: 0.004545992400402368\n",
      "Mean Residual Deviance: 65.96331476863162\n"
     ]
    },
    {
     "data": {
      "text/plain": []
     },
     "execution_count": 51,
     "metadata": {},
     "output_type": "execute_result"
    }
   ],
   "source": [
    "m_DLR_200_epochs.model_performance(test1)"
   ]
  },
  {
   "cell_type": "code",
   "execution_count": 53,
   "id": "internal-stand",
   "metadata": {},
   "outputs": [
    {
     "name": "stdout",
     "output_type": "stream",
     "text": [
      "Model Details\n",
      "=============\n",
      "H2ODeepLearningEstimator :  Deep Learning\n",
      "Model Key:  DeepLearning_model_python_1616180973656_19\n",
      "\n",
      "\n",
      "Status of Neuron Layers: predicting Price, regression, gaussian distribution, Quadratic loss, 41.801 weights/biases, 498,9 KB, 15.259.020 training samples, mini-batch size 1\n"
     ]
    },
    {
     "data": {
      "text/html": [
       "<div style=\"overflow:auto\"><table style=\"width:50%\"><tr><td><b></b></td>\n",
       "<td><b>layer</b></td>\n",
       "<td><b>units</b></td>\n",
       "<td><b>type</b></td>\n",
       "<td><b>dropout</b></td>\n",
       "<td><b>l1</b></td>\n",
       "<td><b>l2</b></td>\n",
       "<td><b>mean_rate</b></td>\n",
       "<td><b>rate_rms</b></td>\n",
       "<td><b>momentum</b></td>\n",
       "<td><b>mean_weight</b></td>\n",
       "<td><b>weight_rms</b></td>\n",
       "<td><b>mean_bias</b></td>\n",
       "<td><b>bias_rms</b></td></tr>\n",
       "<tr><td></td>\n",
       "<td>1</td>\n",
       "<td>6</td>\n",
       "<td>Input</td>\n",
       "<td>0.0</td>\n",
       "<td></td>\n",
       "<td></td>\n",
       "<td></td>\n",
       "<td></td>\n",
       "<td></td>\n",
       "<td></td>\n",
       "<td></td>\n",
       "<td></td>\n",
       "<td></td></tr>\n",
       "<tr><td></td>\n",
       "<td>2</td>\n",
       "<td>200</td>\n",
       "<td>Rectifier</td>\n",
       "<td>0.0</td>\n",
       "<td>0.0</td>\n",
       "<td>0.0</td>\n",
       "<td>0.8114227</td>\n",
       "<td>0.2402565</td>\n",
       "<td>0.0</td>\n",
       "<td>-0.0113320</td>\n",
       "<td>0.1843712</td>\n",
       "<td>0.0042333</td>\n",
       "<td>0.1403890</td></tr>\n",
       "<tr><td></td>\n",
       "<td>3</td>\n",
       "<td>200</td>\n",
       "<td>Rectifier</td>\n",
       "<td>0.0</td>\n",
       "<td>0.0</td>\n",
       "<td>0.0</td>\n",
       "<td>0.9440113</td>\n",
       "<td>0.1725245</td>\n",
       "<td>0.0</td>\n",
       "<td>-0.0440246</td>\n",
       "<td>0.0795867</td>\n",
       "<td>0.7429419</td>\n",
       "<td>0.0836289</td></tr>\n",
       "<tr><td></td>\n",
       "<td>4</td>\n",
       "<td>1</td>\n",
       "<td>Linear</td>\n",
       "<td></td>\n",
       "<td>0.0</td>\n",
       "<td>0.0</td>\n",
       "<td>0.5551375</td>\n",
       "<td>0.2343526</td>\n",
       "<td>0.0</td>\n",
       "<td>-0.0032006</td>\n",
       "<td>0.0725286</td>\n",
       "<td>0.2569303</td>\n",
       "<td>0.0000000</td></tr></table></div>"
      ],
      "text/plain": [
       "    layer    units    type       dropout    l1    l2    mean_rate           rate_rms             momentum    mean_weight             weight_rms           mean_bias             bias_rms\n",
       "--  -------  -------  ---------  ---------  ----  ----  ------------------  -------------------  ----------  ----------------------  -------------------  --------------------  -----------------------\n",
       "    1        6        Input      0.0\n",
       "    2        200      Rectifier  0.0        0.0   0.0   0.8114226991403848  0.24025654792785645  0.0         -0.011332040277337304   0.1843712329864502   0.004233312763119336  0.14038896560668945\n",
       "    3        200      Rectifier  0.0        0.0   0.0   0.9440113476172439  0.17252451181411743  0.0         -0.04402460376173095    0.0795866847038269   0.7429418736433163    0.08362889289855957\n",
       "    4        1        Linear                0.0   0.0   0.5551375117525459  0.23435258865356445  0.0         -0.0032006051334610673  0.07252863049507141  0.25693030718674575   1.0971281125650402e-154"
      ]
     },
     "metadata": {},
     "output_type": "display_data"
    },
    {
     "name": "stdout",
     "output_type": "stream",
     "text": [
      "\n",
      "\n",
      "ModelMetricsRegression: deeplearning\n",
      "** Reported on train data. **\n",
      "\n",
      "MSE: 4.981107084815277\n",
      "RMSE: 2.2318393949420456\n",
      "MAE: 1.6230559464700516\n",
      "RMSLE: 0.035633057308098535\n",
      "Mean Residual Deviance: 4.981107084815277\n",
      "\n",
      "ModelMetricsRegression: deeplearning\n",
      "** Reported on validation data. **\n",
      "\n",
      "MSE: 135.86444544874254\n",
      "RMSE: 11.656090487326466\n",
      "MAE: 8.865869055177244\n",
      "RMSLE: 0.006774762937951375\n",
      "Mean Residual Deviance: 135.86444544874254\n",
      "\n",
      "Scoring History: \n"
     ]
    },
    {
     "data": {
      "text/html": [
       "<div style=\"overflow:auto\"><table style=\"width:50%\"><tr><td><b></b></td>\n",
       "<td><b>timestamp</b></td>\n",
       "<td><b>duration</b></td>\n",
       "<td><b>training_speed</b></td>\n",
       "<td><b>epochs</b></td>\n",
       "<td><b>iterations</b></td>\n",
       "<td><b>samples</b></td>\n",
       "<td><b>training_rmse</b></td>\n",
       "<td><b>training_deviance</b></td>\n",
       "<td><b>training_mae</b></td>\n",
       "<td><b>training_r2</b></td>\n",
       "<td><b>validation_rmse</b></td>\n",
       "<td><b>validation_deviance</b></td>\n",
       "<td><b>validation_mae</b></td>\n",
       "<td><b>validation_r2</b></td></tr>\n",
       "<tr><td></td>\n",
       "<td>2021-03-19 18:03:42</td>\n",
       "<td> 0.000 sec</td>\n",
       "<td>None</td>\n",
       "<td>0.0</td>\n",
       "<td>0</td>\n",
       "<td>0.0</td>\n",
       "<td>nan</td>\n",
       "<td>nan</td>\n",
       "<td>nan</td>\n",
       "<td>nan</td>\n",
       "<td>nan</td>\n",
       "<td>nan</td>\n",
       "<td>nan</td>\n",
       "<td>nan</td></tr>\n",
       "<tr><td></td>\n",
       "<td>2021-03-19 18:03:43</td>\n",
       "<td> 1.024 sec</td>\n",
       "<td>47086 obs/sec</td>\n",
       "<td>10.0</td>\n",
       "<td>1</td>\n",
       "<td>46380.0</td>\n",
       "<td>7.1616369</td>\n",
       "<td>51.2890437</td>\n",
       "<td>4.1305904</td>\n",
       "<td>0.9995677</td>\n",
       "<td>71.0568594</td>\n",
       "<td>5049.0772721</td>\n",
       "<td>65.9943081</td>\n",
       "<td>0.6848163</td></tr>\n",
       "<tr><td></td>\n",
       "<td>2021-03-19 18:03:48</td>\n",
       "<td> 6.129 sec</td>\n",
       "<td>91781 obs/sec</td>\n",
       "<td>120.0</td>\n",
       "<td>12</td>\n",
       "<td>556560.0</td>\n",
       "<td>9.9292726</td>\n",
       "<td>98.5904550</td>\n",
       "<td>5.0317821</td>\n",
       "<td>0.9991691</td>\n",
       "<td>76.9085931</td>\n",
       "<td>5914.9316855</td>\n",
       "<td>74.8941733</td>\n",
       "<td>0.6307661</td></tr>\n",
       "<tr><td></td>\n",
       "<td>2021-03-19 18:03:53</td>\n",
       "<td>11.181 sec</td>\n",
       "<td>100389 obs/sec</td>\n",
       "<td>240.0</td>\n",
       "<td>24</td>\n",
       "<td>1113120.0</td>\n",
       "<td>19.6298353</td>\n",
       "<td>385.3304321</td>\n",
       "<td>7.3452240</td>\n",
       "<td>0.9967525</td>\n",
       "<td>141.7888551</td>\n",
       "<td>20104.0794381</td>\n",
       "<td>139.9187463</td>\n",
       "<td>-0.2549776</td></tr>\n",
       "<tr><td></td>\n",
       "<td>2021-03-19 18:03:59</td>\n",
       "<td>16.446 sec</td>\n",
       "<td>105131 obs/sec</td>\n",
       "<td>370.0</td>\n",
       "<td>37</td>\n",
       "<td>1716060.0</td>\n",
       "<td>13.9555175</td>\n",
       "<td>194.7564681</td>\n",
       "<td>5.4794851</td>\n",
       "<td>0.9983586</td>\n",
       "<td>111.4007185</td>\n",
       "<td>12410.1200729</td>\n",
       "<td>109.8607485</td>\n",
       "<td>0.2253103</td></tr>\n",
       "<tr><td>---</td>\n",
       "<td>---</td>\n",
       "<td>---</td>\n",
       "<td>---</td>\n",
       "<td>---</td>\n",
       "<td>---</td>\n",
       "<td>---</td>\n",
       "<td>---</td>\n",
       "<td>---</td>\n",
       "<td>---</td>\n",
       "<td>---</td>\n",
       "<td>---</td>\n",
       "<td>---</td>\n",
       "<td>---</td>\n",
       "<td>---</td></tr>\n",
       "<tr><td></td>\n",
       "<td>2021-03-19 18:05:37</td>\n",
       "<td> 1 min 54.713 sec</td>\n",
       "<td>116691 obs/sec</td>\n",
       "<td>2870.0</td>\n",
       "<td>287</td>\n",
       "<td>13311060.0000000</td>\n",
       "<td>4.0401684</td>\n",
       "<td>16.3229608</td>\n",
       "<td>2.2971167</td>\n",
       "<td>0.9998624</td>\n",
       "<td>25.1029973</td>\n",
       "<td>630.1604714</td>\n",
       "<td>23.2320427</td>\n",
       "<td>0.9606628</td></tr>\n",
       "<tr><td></td>\n",
       "<td>2021-03-19 18:05:42</td>\n",
       "<td> 1 min 59.870 sec</td>\n",
       "<td>117114 obs/sec</td>\n",
       "<td>3010.0</td>\n",
       "<td>301</td>\n",
       "<td>13960380.0000000</td>\n",
       "<td>2.8122126</td>\n",
       "<td>7.9085398</td>\n",
       "<td>1.8115257</td>\n",
       "<td>0.9999333</td>\n",
       "<td>16.6236431</td>\n",
       "<td>276.3455107</td>\n",
       "<td>14.2059668</td>\n",
       "<td>0.9827494</td></tr>\n",
       "<tr><td></td>\n",
       "<td>2021-03-19 18:05:47</td>\n",
       "<td> 2 min  5.002 sec</td>\n",
       "<td>117527 obs/sec</td>\n",
       "<td>3150.0</td>\n",
       "<td>315</td>\n",
       "<td>14609700.0000000</td>\n",
       "<td>2.2318394</td>\n",
       "<td>4.9811071</td>\n",
       "<td>1.6230559</td>\n",
       "<td>0.9999580</td>\n",
       "<td>11.6560905</td>\n",
       "<td>135.8644454</td>\n",
       "<td>8.8658691</td>\n",
       "<td>0.9915188</td></tr>\n",
       "<tr><td></td>\n",
       "<td>2021-03-19 18:05:52</td>\n",
       "<td> 2 min 10.075 sec</td>\n",
       "<td>117963 obs/sec</td>\n",
       "<td>3290.0</td>\n",
       "<td>329</td>\n",
       "<td>15259020.0000000</td>\n",
       "<td>2.1050291</td>\n",
       "<td>4.4311476</td>\n",
       "<td>1.1131597</td>\n",
       "<td>0.9999627</td>\n",
       "<td>14.8996240</td>\n",
       "<td>221.9987962</td>\n",
       "<td>12.1780111</td>\n",
       "<td>0.9861419</td></tr>\n",
       "<tr><td></td>\n",
       "<td>2021-03-19 18:05:52</td>\n",
       "<td> 2 min 10.109 sec</td>\n",
       "<td>117958 obs/sec</td>\n",
       "<td>3290.0</td>\n",
       "<td>329</td>\n",
       "<td>15259020.0000000</td>\n",
       "<td>2.2318394</td>\n",
       "<td>4.9811071</td>\n",
       "<td>1.6230559</td>\n",
       "<td>0.9999580</td>\n",
       "<td>11.6560905</td>\n",
       "<td>135.8644454</td>\n",
       "<td>8.8658691</td>\n",
       "<td>0.9915188</td></tr></table></div>"
      ],
      "text/plain": [
       "     timestamp            duration          training_speed    epochs    iterations    samples     training_rmse       training_deviance    training_mae        training_r2         validation_rmse     validation_deviance    validation_mae      validation_r2\n",
       "---  -------------------  ----------------  ----------------  --------  ------------  ----------  ------------------  -------------------  ------------------  ------------------  ------------------  ---------------------  ------------------  -------------------\n",
       "     2021-03-19 18:03:42  0.000 sec                           0.0       0             0.0         nan                 nan                  nan                 nan                 nan                 nan                    nan                 nan\n",
       "     2021-03-19 18:03:43  1.024 sec         47086 obs/sec     10.0      1             46380.0     7.161636939601857   51.28904365466986    4.130590445762567   0.999567743170851   71.05685943055984   5049.07727213434       65.99430809600317   0.6848162659445758\n",
       "     2021-03-19 18:03:48  6.129 sec         91781 obs/sec     120.0     12            556560.0    9.929272631466633   98.5904549899923     5.031782059587745   0.9991690935447095  76.90859305349755   5914.931685468492      74.8941732787711    0.630766146995284\n",
       "     2021-03-19 18:03:53  11.181 sec        100389 obs/sec    240.0     24            1113120.0   19.629835253656307  385.3304320856879    7.345223964436824   0.99675248944259    141.7888551265803   20104.07943810638      139.91874625739297  -0.2549775900677975\n",
       "     2021-03-19 18:03:59  16.446 sec        105131 obs/sec    370.0     37            1716060.0   13.955517477507234  194.7564680650099    5.479485074008886   0.9983586199440786  111.40071845791509  12410.120072939662     109.86074850098639  0.2253103341767939\n",
       "---  ---                  ---               ---               ---       ---           ---         ---                 ---                  ---                 ---                 ---                 ---                    ---                 ---\n",
       "     2021-03-19 18:05:37  1 min 54.713 sec  116691 obs/sec    2870.0    287           13311060.0  4.040168415564999   16.322960826128995   2.2971167246061572  0.9998624323873821  25.102997258781446  630.1604713743889      23.232042708903528  0.9606628459583968\n",
       "     2021-03-19 18:05:42  1 min 59.870 sec  117114 obs/sec    3010.0    301           13960380.0  2.8122126190432533  7.908539814706114    1.8115256621298308  0.9999333479413942  16.623643122323564  276.3455106583756      14.205966849809272  0.9827494004856177\n",
       "     2021-03-19 18:05:47  2 min  5.002 sec  117527 obs/sec    3150.0    315           14609700.0  2.2318393949420456  4.981107084815277    1.6230559464700516  0.9999580199317298  11.656090487326466  135.86444544874254     8.865869055177244   0.991518794240239\n",
       "     2021-03-19 18:05:52  2 min 10.075 sec  117963 obs/sec    3290.0    329           15259020.0  2.1050291307069604  4.431147641124902    1.1131597256920245  0.9999626549123876  14.899624027657827  221.99879616555845     12.178011072893678  0.9861419412379696\n",
       "     2021-03-19 18:05:52  2 min 10.109 sec  117958 obs/sec    3290.0    329           15259020.0  2.2318393949420456  4.981107084815277    1.6230559464700516  0.9999580199317298  11.656090487326466  135.86444544874254     8.865869055177244   0.991518794240239"
      ]
     },
     "metadata": {},
     "output_type": "display_data"
    },
    {
     "name": "stdout",
     "output_type": "stream",
     "text": [
      "\n",
      "Variable Importances: \n"
     ]
    },
    {
     "data": {
      "text/html": [
       "<div style=\"overflow:auto\"><table style=\"width:50%\"><tr><td><b>variable</b></td>\n",
       "<td><b>relative_importance</b></td>\n",
       "<td><b>scaled_importance</b></td>\n",
       "<td><b>percentage</b></td></tr>\n",
       "<tr><td>High</td>\n",
       "<td>1.0</td>\n",
       "<td>1.0</td>\n",
       "<td>0.2759968</td></tr>\n",
       "<tr><td>Open</td>\n",
       "<td>0.8364077</td>\n",
       "<td>0.8364077</td>\n",
       "<td>0.2308458</td></tr>\n",
       "<tr><td>Low</td>\n",
       "<td>0.6978680</td>\n",
       "<td>0.6978680</td>\n",
       "<td>0.1926093</td></tr>\n",
       "<tr><td>Date</td>\n",
       "<td>0.4351507</td>\n",
       "<td>0.4351507</td>\n",
       "<td>0.1201002</td></tr>\n",
       "<tr><td>Vol</td>\n",
       "<td>0.3361622</td>\n",
       "<td>0.3361622</td>\n",
       "<td>0.0927797</td></tr>\n",
       "<tr><td>Change %</td>\n",
       "<td>0.3176417</td>\n",
       "<td>0.3176417</td>\n",
       "<td>0.0876681</td></tr></table></div>"
      ],
      "text/plain": [
       "variable    relative_importance    scaled_importance    percentage\n",
       "----------  ---------------------  -------------------  ------------\n",
       "High        1                      1                    0.275997\n",
       "Open        0.836408               0.836408             0.230846\n",
       "Low         0.697868               0.697868             0.192609\n",
       "Date        0.435151               0.435151             0.1201\n",
       "Vol         0.336162               0.336162             0.0927797\n",
       "Change %    0.317642               0.317642             0.0876681"
      ]
     },
     "metadata": {},
     "output_type": "display_data"
    },
    {
     "data": {
      "text/plain": []
     },
     "execution_count": 53,
     "metadata": {},
     "output_type": "execute_result"
    }
   ],
   "source": [
    "m_DLR_200_epochs"
   ]
  },
  {
   "cell_type": "code",
   "execution_count": null,
   "id": "german-sterling",
   "metadata": {},
   "outputs": [],
   "source": []
  }
 ],
 "metadata": {
  "kernelspec": {
   "display_name": "Python 3",
   "language": "python",
   "name": "python3"
  },
  "language_info": {
   "codemirror_mode": {
    "name": "ipython",
    "version": 3
   },
   "file_extension": ".py",
   "mimetype": "text/x-python",
   "name": "python",
   "nbconvert_exporter": "python",
   "pygments_lexer": "ipython3",
   "version": "3.9.2"
  }
 },
 "nbformat": 4,
 "nbformat_minor": 5
}
